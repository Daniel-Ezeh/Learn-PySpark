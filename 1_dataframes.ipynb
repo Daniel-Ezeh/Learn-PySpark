{
 "cells": [
  {
   "cell_type": "markdown",
   "id": "85b768ed",
   "metadata": {},
   "source": [
    "### Creating a DataFrane from a List of Tuples (Static Values)"
   ]
  },
  {
   "cell_type": "code",
   "execution_count": null,
   "id": "9547da0c",
   "metadata": {},
   "outputs": [
    {
     "name": "stdout",
     "output_type": "stream",
     "text": [
      "Requirement already satisfied: pyspark in /Users/nombauser/.pyenv/versions/3.10.14/lib/python3.10/site-packages (3.3.4)\n",
      "Requirement already satisfied: py4j==0.10.9.5 in /Users/nombauser/.pyenv/versions/3.10.14/lib/python3.10/site-packages (from pyspark) (0.10.9.5)\n",
      "\n",
      "\u001b[1m[\u001b[0m\u001b[34;49mnotice\u001b[0m\u001b[1;39;49m]\u001b[0m\u001b[39;49m A new release of pip is available: \u001b[0m\u001b[31;49m23.0.1\u001b[0m\u001b[39;49m -> \u001b[0m\u001b[32;49m25.2\u001b[0m\n",
      "\u001b[1m[\u001b[0m\u001b[34;49mnotice\u001b[0m\u001b[1;39;49m]\u001b[0m\u001b[39;49m To update, run: \u001b[0m\u001b[32;49mpip install --upgrade pip\u001b[0m\n"
     ]
    }
   ],
   "source": [
    "%pip install pyspark\n"
   ]
  },
  {
   "cell_type": "code",
   "execution_count": 6,
   "id": "e6a40660",
   "metadata": {},
   "outputs": [],
   "source": [
    "from pyspark.sql import Row\n",
    "from pyspark.sql import SparkSession\n",
    "my_spark = SparkSession.builder.appName(\"DataFrameExample\").getOrCreate()\n",
    "\n",
    "# Defining the list of tuples\n",
    "data = [\n",
    "    Row(id=1, name=\"Alice\", age=29),\n",
    "    Row(id=2, name=\"Bob\", age=31),\n",
    "    Row(id=3,name=\"Cathy\", age=25)\n",
    "]"
   ]
  },
  {
   "cell_type": "code",
   "execution_count": 7,
   "id": "0263b058",
   "metadata": {},
   "outputs": [
    {
     "name": "stdout",
     "output_type": "stream",
     "text": [
      "+---+-----+---+\n",
      "| id| name|age|\n",
      "+---+-----+---+\n",
      "|  1|Alice| 29|\n",
      "|  2|  Bob| 31|\n",
      "|  3|Cathy| 25|\n",
      "+---+-----+---+\n",
      "\n"
     ]
    }
   ],
   "source": [
    "# Creating a dataframe from the list\n",
    "df = my_spark.createDataFrame(data)\n",
    "df.show()\n"
   ]
  },
  {
   "cell_type": "markdown",
   "id": "69e6664e",
   "metadata": {},
   "source": [
    "#### Creating a Dataframe with a List of Dictionaries"
   ]
  },
  {
   "cell_type": "code",
   "execution_count": 11,
   "id": "7a21201b",
   "metadata": {},
   "outputs": [
    {
     "name": "stdout",
     "output_type": "stream",
     "text": [
      "+---+---+-----+\n",
      "|age| id| name|\n",
      "+---+---+-----+\n",
      "| 29|  1|Alice|\n",
      "| 31|  2|  Bob|\n",
      "| 25|  3|Cathy|\n",
      "+---+---+-----+\n",
      "\n"
     ]
    }
   ],
   "source": [
    "from pyspark.sql import SparkSession\n",
    "spark = SparkSession.builder.appName(\"Data Frames\").getOrCreate()\n",
    "data = [\n",
    "    {\"id\":1, \"name\":\"Alice\", \"age\":29},\n",
    "    {\"id\":2, \"name\":\"Bob\", \"age\":31},\n",
    "    {\"id\":3,\"name\":\"Cathy\", \"age\":25}\n",
    "]\n",
    "\n",
    "# Creating a DataFrame with a List of Dictionaries\n",
    "df = spark.createDataFrame(data)\n",
    "df.show()"
   ]
  },
  {
   "cell_type": "markdown",
   "id": "55cd9f2e",
   "metadata": {},
   "source": [
    "#### How to Add Column Names to DataFrame"
   ]
  },
  {
   "cell_type": "code",
   "execution_count": 17,
   "id": "c8810541",
   "metadata": {},
   "outputs": [
    {
     "name": "stdout",
     "output_type": "stream",
     "text": [
      "+---+-----+---+\n",
      "| _1|   _2| _3|\n",
      "+---+-----+---+\n",
      "|  1|Alice| 29|\n",
      "|  2|  Bob| 31|\n",
      "|  3|Cathy| 25|\n",
      "+---+-----+---+\n",
      "\n",
      "root\n",
      " |-- _1: long (nullable = true)\n",
      " |-- _2: string (nullable = true)\n",
      " |-- _3: long (nullable = true)\n",
      "\n"
     ]
    }
   ],
   "source": [
    "data = [\n",
    "    (1, \"Alice\", 29),\n",
    "    (2, \"Bob\", 31),\n",
    "    (3, \"Cathy\", 25)\n",
    "]\n",
    "\n",
    "df = spark.createDataFrame(data)\n",
    "df.show()\n",
    "\n",
    "df.printSchema()"
   ]
  },
  {
   "cell_type": "code",
   "execution_count": 13,
   "id": "474e508c",
   "metadata": {},
   "outputs": [
    {
     "name": "stdout",
     "output_type": "stream",
     "text": [
      "+---+-----+---+\n",
      "| id| name|age|\n",
      "+---+-----+---+\n",
      "|  1|Alice| 29|\n",
      "|  2|  Bob| 31|\n",
      "|  3|Cathy| 25|\n",
      "+---+-----+---+\n",
      "\n"
     ]
    }
   ],
   "source": [
    "# the toDF() function is used to rename columns in a DataFrame.\n",
    "df2 = df.toDF(\"id\", \"name\", \"age\")\n",
    "df2.show()"
   ]
  },
  {
   "cell_type": "code",
   "execution_count": 15,
   "id": "9e63ab89",
   "metadata": {},
   "outputs": [
    {
     "name": "stdout",
     "output_type": "stream",
     "text": [
      "+---+-----+---+\n",
      "| id| name|age|\n",
      "+---+-----+---+\n",
      "|  1|Alice| 29|\n",
      "|  2|  Bob| 31|\n",
      "|  3|Cathy| 25|\n",
      "+---+-----+---+\n",
      "\n"
     ]
    }
   ],
   "source": [
    "# Combining them all together\n",
    "df3 = spark.createDataFrame(data).toDF(\"id\", \"name\", \"age\")\n",
    "df3.show()\n"
   ]
  },
  {
   "cell_type": "code",
   "execution_count": 16,
   "id": "01bd3da6",
   "metadata": {},
   "outputs": [
    {
     "name": "stdout",
     "output_type": "stream",
     "text": [
      "root\n",
      " |-- id: long (nullable = true)\n",
      " |-- name: string (nullable = true)\n",
      " |-- age: long (nullable = true)\n",
      "\n"
     ]
    }
   ],
   "source": [
    "# Checking the schema of the DataFrame\n",
    "df3.printSchema()"
   ]
  },
  {
   "cell_type": "markdown",
   "id": "1af040c8",
   "metadata": {},
   "source": [
    "#### Creating DataFrame() with Schema "
   ]
  },
  {
   "cell_type": "code",
   "execution_count": 21,
   "id": "a863596a",
   "metadata": {},
   "outputs": [
    {
     "name": "stdout",
     "output_type": "stream",
     "text": [
      "+---+-----+---+\n",
      "| id| name|age|\n",
      "+---+-----+---+\n",
      "|  1|Alice| 29|\n",
      "|  2|  Bob| 31|\n",
      "|  3|Cathy| 25|\n",
      "|  4| null| 25|\n",
      "+---+-----+---+\n",
      "\n",
      "root\n",
      " |-- id: integer (nullable = false)\n",
      " |-- name: string (nullable = true)\n",
      " |-- age: integer (nullable = true)\n",
      "\n"
     ]
    }
   ],
   "source": [
    "from pyspark.sql.types import StructType, StructField, IntegerType, StringType\n",
    "\n",
    "# Defining the schema\n",
    "my_schema = StructType([\n",
    "    StructField(\"id\", IntegerType(), False),\n",
    "    StructField(\"name\", StringType(), True),\n",
    "    StructField(\"age\", IntegerType(), True)\n",
    "\n",
    "])\n",
    "\n",
    "\n",
    "data = [\n",
    "    (1, \"Alice\", 29),\n",
    "    (2, \"Bob\", 31),\n",
    "    (3, \"Cathy\", 25),\n",
    "    (4, None, 25)\n",
    "]\n",
    "\n",
    "df = spark.createDataFrame(data, my_schema)\n",
    "df.show()\n",
    "\n",
    "df.printSchema()"
   ]
  },
  {
   "cell_type": "markdown",
   "id": "3b7a76a8",
   "metadata": {},
   "source": [
    "#### How to use the show() Function"
   ]
  },
  {
   "cell_type": "code",
   "execution_count": 30,
   "id": "c1dfc261",
   "metadata": {},
   "outputs": [
    {
     "name": "stdout",
     "output_type": "stream",
     "text": [
      "+---+--------------------+---+\n",
      "| id|                name|age|\n",
      "+---+--------------------+---+\n",
      "|  1|               Alice| 29|\n",
      "|  2|                 Bob| 31|\n",
      "|  3|Cathy, How are yo...| 25|\n",
      "|  4|                null| 25|\n",
      "+---+--------------------+---+\n",
      "\n",
      "+---+-----+---+\n",
      "| id| name|age|\n",
      "+---+-----+---+\n",
      "|  1|Alice| 29|\n",
      "|  2|  Bob| 31|\n",
      "+---+-----+---+\n",
      "only showing top 2 rows\n",
      "\n",
      "+---+-----+---+\n",
      "| id| name|age|\n",
      "+---+-----+---+\n",
      "|  1|Alice| 29|\n",
      "|  2|  Bob| 31|\n",
      "|  3|Cathy| 25|\n",
      "|  4| null| 25|\n",
      "+---+-----+---+\n",
      "\n",
      "+---+------------------------------------------------------------------+---+\n",
      "|id |name                                                              |age|\n",
      "+---+------------------------------------------------------------------+---+\n",
      "|1  |Alice                                                             |29 |\n",
      "|2  |Bob                                                               |31 |\n",
      "|3  |Cathy, How are you doint today and the family is doing fine right?|25 |\n",
      "|4  |null                                                              |25 |\n",
      "+---+------------------------------------------------------------------+---+\n",
      "\n",
      "-RECORD 0------------------------------------------------------------------\n",
      " id   | 1                                                                  \n",
      " name | Alice                                                              \n",
      " age  | 29                                                                 \n",
      "-RECORD 1------------------------------------------------------------------\n",
      " id   | 2                                                                  \n",
      " name | Bob                                                                \n",
      " age  | 31                                                                 \n",
      "-RECORD 2------------------------------------------------------------------\n",
      " id   | 3                                                                  \n",
      " name | Cathy, How are you doint today and the family is doing fine right? \n",
      " age  | 25                                                                 \n",
      "-RECORD 3------------------------------------------------------------------\n",
      " id   | 4                                                                  \n",
      " name | null                                                               \n",
      " age  | 25                                                                 \n",
      "\n"
     ]
    }
   ],
   "source": [
    "data = [\n",
    "    (1, \"Alice\", 29),\n",
    "    (2, \"Bob\", 31),\n",
    "    (3, \"Cathy, How are you doint today and the family is doing fine right?\", 25),\n",
    "    (4, None, 25)\n",
    "]\n",
    "\n",
    "df3 = spark.createDataFrame(data).toDF(\"id\", \"name\", \"age\")\n",
    "df3.show()\n",
    "\n",
    "# Showing limited number of rows\n",
    "df3.show(2)\n",
    "\n",
    "#Truncating long strings\n",
    "df.show(truncate=True, n=5)\n",
    "\n",
    "# Avoiding truncating long strings\n",
    "df3.show(truncate=False)\n",
    "\n",
    "# Displaying data in vertical format\n",
    "df3.show(vertical=True, truncate=False)\n",
    "\n",
    "spark.stop()\n"
   ]
  },
  {
   "cell_type": "code",
   "execution_count": null,
   "id": "9989e3b0",
   "metadata": {},
   "outputs": [],
   "source": []
  },
  {
   "cell_type": "code",
   "execution_count": null,
   "id": "b41bf538",
   "metadata": {},
   "outputs": [],
   "source": []
  }
 ],
 "metadata": {
  "kernelspec": {
   "display_name": "3.10.14",
   "language": "python",
   "name": "python3"
  },
  "language_info": {
   "codemirror_mode": {
    "name": "ipython",
    "version": 3
   },
   "file_extension": ".py",
   "mimetype": "text/x-python",
   "name": "python",
   "nbconvert_exporter": "python",
   "pygments_lexer": "ipython3",
   "version": "3.10.14"
  }
 },
 "nbformat": 4,
 "nbformat_minor": 5
}
