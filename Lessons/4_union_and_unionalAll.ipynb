{
 "cells": [
  {
   "cell_type": "code",
   "execution_count": 6,
   "id": "621d234a",
   "metadata": {},
   "outputs": [],
   "source": [
    "from pyspark.sql import SparkSession\n",
    "from pyspark.sql.functions import *"
   ]
  },
  {
   "cell_type": "code",
   "execution_count": 7,
   "id": "0202c44d",
   "metadata": {},
   "outputs": [],
   "source": [
    "spark = SparkSession.builder.appName('myspark').getOrCreate()\n",
    "csv_file_path = \"/Users/nombauser/Desktop/GIT/MyGitRepos/Learn-PySpark/files/sample_1.csv\""
   ]
  },
  {
   "cell_type": "code",
   "execution_count": 8,
   "id": "8681e353",
   "metadata": {},
   "outputs": [],
   "source": [
    "df = (spark.read.format('csv')\n",
    "      .option('header', \"true\")\n",
    "      .option('inferSchema', \"true\")\n",
    "      .load(csv_file_path))"
   ]
  },
  {
   "cell_type": "code",
   "execution_count": 18,
   "id": "3a7f945e",
   "metadata": {},
   "outputs": [
    {
     "name": "stdout",
     "output_type": "stream",
     "text": [
      "root\n",
      " |-- track_id: string (nullable = true)\n",
      " |-- track_name: string (nullable = true)\n",
      " |-- track_artist: string (nullable = true)\n",
      " |-- track_popularity: integer (nullable = true)\n",
      " |-- track_album_id: string (nullable = true)\n",
      " |-- track_album_name: string (nullable = true)\n",
      " |-- track_album_release_date: string (nullable = true)\n",
      " |-- playlist_name: string (nullable = true)\n",
      " |-- playlist_id: string (nullable = true)\n",
      " |-- playlist_genre: string (nullable = true)\n",
      " |-- playlist_subgenre: string (nullable = true)\n",
      " |-- danceability: string (nullable = true)\n",
      " |-- energy: double (nullable = true)\n",
      " |-- key: double (nullable = true)\n",
      " |-- loudness: double (nullable = true)\n",
      " |-- mode: double (nullable = true)\n",
      " |-- speechiness: double (nullable = true)\n",
      " |-- acousticness: double (nullable = true)\n",
      " |-- instrumentalness: double (nullable = true)\n",
      " |-- liveness: double (nullable = true)\n",
      " |-- valence: double (nullable = true)\n",
      " |-- tempo: double (nullable = true)\n",
      " |-- duration_ms: double (nullable = true)\n",
      "\n"
     ]
    }
   ],
   "source": [
    "df.printSchema()"
   ]
  },
  {
   "cell_type": "markdown",
   "id": "41cd01fd",
   "metadata": {},
   "source": [
    "#### `union` and `unionAll`"
   ]
  },
  {
   "cell_type": "code",
   "execution_count": null,
   "id": "90aff744",
   "metadata": {},
   "outputs": [
    {
     "name": "stdout",
     "output_type": "stream",
     "text": [
      "+----------------------+------------------------------------------------------+----+------------+\n",
      "|track_id              |track_name                                            |key |acousticness|\n",
      "+----------------------+------------------------------------------------------+----+------------+\n",
      "|0r7CVbZTWZgbTCYdfa2P31|Memories - Dillon Francis Remix                       |11.0|0.0724      |\n",
      "|4sqABRRGU7CzcHXCyxUzFw|Do You Mean (feat. Ty Dolla $ign & bülow) - Myon Remix|11.0|0.0163      |\n",
      "|5dy3WUywjZcalTno1io8TQ|Hold Me While You Wait - Steve Void Remix             |11.0|0.104       |\n",
      "|1aT7vltGhkjyMI3F3aO3A4|Mother - Fedde Le Grand Remix                         |11.0|0.0319      |\n",
      "|0Fc9QSMX6fgEBgDjUax7t7|Ruin My Life - Steve James Remix                      |11.0|0.0103      |\n",
      "+----------------------+------------------------------------------------------+----+------------+\n",
      "\n",
      "+----------------------+---------------------------------------------------------------+----+------------+\n",
      "|track_id              |track_name                                                     |key |acousticness|\n",
      "+----------------------+---------------------------------------------------------------+----+------------+\n",
      "|0r7CVbZTWZgbTCYdfa2P31|Memories - Dillon Francis Remix                                |11.0|0.0724      |\n",
      "|3TjLsDgL0bTbSQIF6M5Ki8|Say My Name (feat. Bebe Rexha & J Balvin) - Lucas & Steve Remix|10.0|0.0395      |\n",
      "|7p4jpmyBnOpqQ3rSGJzZ7w|Quite Miss Home - Steve Void Remix                             |10.0|0.108       |\n",
      "|2k4c9ZAlIYHyXiJ4i20FO7|When It Comes To You - Benny Benassi & BB Team Remix           |10.0|0.0538      |\n",
      "+----------------------+---------------------------------------------------------------+----+------------+\n",
      "\n"
     ]
    }
   ],
   "source": [
    "# The data schema must be same\n",
    "\n",
    "# First dataframe\n",
    "df1 = (df.select(\n",
    "    \"track_id\", \"track_name\", \"key\", \"acousticness\"\n",
    ").where(col('key') == 11).limit(5))\n",
    "\n",
    "df1.show(truncate=False)\n",
    "\n",
    "\n",
    "# Second dataframe\n",
    "df2 = (df.select(\"track_id\", \"track_name\", \"key\", \"acousticness\")\n",
    "    .filter(\n",
    "        (col('track_name') == 'Memories - Dillon Francis Remix') | \n",
    "        (col('key') == 10) )\n",
    "    .limit(4)) \n",
    "df2.show(truncate=False)"
   ]
  },
  {
   "cell_type": "code",
   "execution_count": 26,
   "id": "2606767c",
   "metadata": {},
   "outputs": [
    {
     "name": "stdout",
     "output_type": "stream",
     "text": [
      "9\n",
      "+--------------------+--------------------+----+------------+\n",
      "|            track_id|          track_name| key|acousticness|\n",
      "+--------------------+--------------------+----+------------+\n",
      "|0r7CVbZTWZgbTCYdf...|Memories - Dillon...|11.0|      0.0724|\n",
      "|4sqABRRGU7CzcHXCy...|Do You Mean (feat...|11.0|      0.0163|\n",
      "|5dy3WUywjZcalTno1...|Hold Me While You...|11.0|       0.104|\n",
      "|1aT7vltGhkjyMI3F3...|Mother - Fedde Le...|11.0|      0.0319|\n",
      "|0Fc9QSMX6fgEBgDjU...|Ruin My Life - St...|11.0|      0.0103|\n",
      "|0r7CVbZTWZgbTCYdf...|Memories - Dillon...|11.0|      0.0724|\n",
      "|3TjLsDgL0bTbSQIF6...|Say My Name (feat...|10.0|      0.0395|\n",
      "|7p4jpmyBnOpqQ3rSG...|Quite Miss Home -...|10.0|       0.108|\n",
      "|2k4c9ZAlIYHyXiJ4i...|When It Comes To ...|10.0|      0.0538|\n",
      "+--------------------+--------------------+----+------------+\n",
      "\n"
     ]
    }
   ],
   "source": [
    "# Using union \n",
    "df_union = df1.union(df2)\n",
    "print(df_union.count())\n",
    "df_union.show()\n"
   ]
  },
  {
   "cell_type": "code",
   "execution_count": 27,
   "id": "4dade674",
   "metadata": {},
   "outputs": [
    {
     "name": "stdout",
     "output_type": "stream",
     "text": [
      "+--------------------+--------------------+----+------------+\n",
      "|            track_id|          track_name| key|acousticness|\n",
      "+--------------------+--------------------+----+------------+\n",
      "|0Fc9QSMX6fgEBgDjU...|Ruin My Life - St...|11.0|      0.0103|\n",
      "|1aT7vltGhkjyMI3F3...|Mother - Fedde Le...|11.0|      0.0319|\n",
      "|5dy3WUywjZcalTno1...|Hold Me While You...|11.0|       0.104|\n",
      "|4sqABRRGU7CzcHXCy...|Do You Mean (feat...|11.0|      0.0163|\n",
      "|0r7CVbZTWZgbTCYdf...|Memories - Dillon...|11.0|      0.0724|\n",
      "|7p4jpmyBnOpqQ3rSG...|Quite Miss Home -...|10.0|       0.108|\n",
      "|3TjLsDgL0bTbSQIF6...|Say My Name (feat...|10.0|      0.0395|\n",
      "|2k4c9ZAlIYHyXiJ4i...|When It Comes To ...|10.0|      0.0538|\n",
      "+--------------------+--------------------+----+------------+\n",
      "\n"
     ]
    }
   ],
   "source": [
    "# Union using distinct\n",
    "\n",
    "df_union_distinct = df1.union(df2).distinct()\n",
    "df_union_distinct.show()"
   ]
  },
  {
   "cell_type": "code",
   "execution_count": 28,
   "id": "121abe5c",
   "metadata": {},
   "outputs": [
    {
     "name": "stdout",
     "output_type": "stream",
     "text": [
      "+--------------------+--------------------+----+------------+\n",
      "|            track_id|          track_name| key|acousticness|\n",
      "+--------------------+--------------------+----+------------+\n",
      "|0r7CVbZTWZgbTCYdf...|Memories - Dillon...|11.0|      0.0724|\n",
      "|4sqABRRGU7CzcHXCy...|Do You Mean (feat...|11.0|      0.0163|\n",
      "|5dy3WUywjZcalTno1...|Hold Me While You...|11.0|       0.104|\n",
      "|1aT7vltGhkjyMI3F3...|Mother - Fedde Le...|11.0|      0.0319|\n",
      "|0Fc9QSMX6fgEBgDjU...|Ruin My Life - St...|11.0|      0.0103|\n",
      "|0r7CVbZTWZgbTCYdf...|Memories - Dillon...|11.0|      0.0724|\n",
      "|3TjLsDgL0bTbSQIF6...|Say My Name (feat...|10.0|      0.0395|\n",
      "|7p4jpmyBnOpqQ3rSG...|Quite Miss Home -...|10.0|       0.108|\n",
      "|2k4c9ZAlIYHyXiJ4i...|When It Comes To ...|10.0|      0.0538|\n",
      "+--------------------+--------------------+----+------------+\n",
      "\n"
     ]
    }
   ],
   "source": [
    "# unionAll() - works same as union() in modern PySpark\n",
    "\n",
    "df_union_all = df1.unionAll(df2)\n",
    "df_union_all.show()"
   ]
  },
  {
   "cell_type": "code",
   "execution_count": null,
   "id": "716eab89",
   "metadata": {},
   "outputs": [],
   "source": []
  }
 ],
 "metadata": {
  "kernelspec": {
   "display_name": "3.10.14",
   "language": "python",
   "name": "python3"
  },
  "language_info": {
   "codemirror_mode": {
    "name": "ipython",
    "version": 3
   },
   "file_extension": ".py",
   "mimetype": "text/x-python",
   "name": "python",
   "nbconvert_exporter": "python",
   "pygments_lexer": "ipython3",
   "version": "3.10.14"
  }
 },
 "nbformat": 4,
 "nbformat_minor": 5
}
