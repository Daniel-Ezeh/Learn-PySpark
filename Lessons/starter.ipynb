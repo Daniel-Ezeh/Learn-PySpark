{
 "cells": [
  {
   "cell_type": "code",
   "execution_count": null,
   "id": "e348c170",
   "metadata": {},
   "outputs": [],
   "source": [
    "!pip install pyspark"
   ]
  },
  {
   "cell_type": "code",
   "execution_count": 1,
   "id": "e966d397",
   "metadata": {},
   "outputs": [
    {
     "name": "stdout",
     "output_type": "stream",
     "text": [
      "hello world\n"
     ]
    }
   ],
   "source": [
    "print(\"hello world\")"
   ]
  },
  {
   "cell_type": "code",
   "execution_count": null,
   "id": "d23f6c77",
   "metadata": {},
   "outputs": [],
   "source": [
    "# Import SparkSession from pyspark.sql\n",
    "from pyspark.sql import SparkSession\n",
    "\n",
    "# Create my_spark\n",
    "my_spark = SparkSession.builder.appName(\"my_spark\").getOrCreate()\n",
    "\n",
    "# Print my_spark\n",
    "print(my_spark)"
   ]
  },
  {
   "cell_type": "code",
   "execution_count": null,
   "id": "ccce823f",
   "metadata": {},
   "outputs": [],
   "source": [
    "# Read in the CSV\n",
    "census_adult = spark.read.csv(\"adult_reduced.csv\")\n",
    "\n",
    "# Show the DataFrame\n",
    "census_adult.show()"
   ]
  },
  {
   "cell_type": "code",
   "execution_count": null,
   "id": "0aa8e407",
   "metadata": {},
   "outputs": [],
   "source": [
    "# Load the CSV file into a DataFrame\n",
    "salaries_df = spark.read.csv(\"salaries.csv\", header=True, inferSchema=True)\n",
    "\n",
    "# Count the total number of rows\n",
    "row_count = salaries_df.count()\n",
    "print(f\"Total rows: {row_count}\")\n",
    "\n",
    "# Group by company size and calculate the average of salaries\n",
    "salaries_df.groupBy(\"company_size\").agg({\"salary_in_usd\": \"avg\"}).show()\n",
    "salaries_df.show()"
   ]
  },
  {
   "cell_type": "code",
   "execution_count": null,
   "id": "5baa2d61",
   "metadata": {},
   "outputs": [],
   "source": [
    "# Average salary for entry level in Canada\n",
    "CA_jobs = ca_salaries_df\n",
    ".filter(ca_salaries_df['company_location'] == \"CA\")\n",
    ".filter(ca_salaries_df['experience_level'] == \"EN\")\n",
    ".groupBy()\n",
    ".avg(\"salary_in_usd\")\n",
    "\n",
    "# Show the result\n",
    "CA_jobs.show()"
   ]
  },
  {
   "cell_type": "code",
   "execution_count": null,
   "id": "c15f6cdb",
   "metadata": {},
   "outputs": [],
   "source": [
    "# Load the dataframe\n",
    "census_df = spark.read.json(\"adults.json\")\n",
    "\n",
    "# Filter rows based on age condition\n",
    "salary_filtered_census = census_df.filter(census_df[\"age\"]>40)\n",
    "\n",
    "# Show the result\n",
    "salary_filtered_census.show()"
   ]
  },
  {
   "cell_type": "code",
   "execution_count": null,
   "id": "cdf31ba9",
   "metadata": {},
   "outputs": [],
   "source": [
    "from pyspark.sql.types import StructType, StructField, IntegerType, StringType\n",
    "\n",
    "# Fill in the schema with the columns you need from the exercise instructions\n",
    "schema = StructType([StructField(\"age\",IntegerType()),\n",
    "                     StructField(\"education_num\",IntegerType()),\n",
    "                     StructField(\"marital_status\",StringType()),\n",
    "                     StructField(\"occupation\",StringType()),\n",
    "                     StructField(\"income\",StringType()),\n",
    "                    ])\n",
    "\n",
    "# Read in the CSV, using the schema you defined above\n",
    "census_adult = spark.read.csv(\"adult_reduced_100.csv\", sep=',', header=False, schema=schema)\n",
    "\n",
    "# Print out the schema\n",
    "census_adult.printSchema()"
   ]
  },
  {
   "cell_type": "code",
   "execution_count": null,
   "id": "549ff054",
   "metadata": {},
   "outputs": [],
   "source": []
  },
  {
   "cell_type": "code",
   "execution_count": null,
   "id": "0c8c237e",
   "metadata": {},
   "outputs": [],
   "source": []
  },
  {
   "cell_type": "code",
   "execution_count": null,
   "id": "5fd2318d",
   "metadata": {},
   "outputs": [],
   "source": []
  }
 ],
 "metadata": {
  "kernelspec": {
   "display_name": "3.12.1",
   "language": "python",
   "name": "python3"
  },
  "language_info": {
   "codemirror_mode": {
    "name": "ipython",
    "version": 3
   },
   "file_extension": ".py",
   "mimetype": "text/x-python",
   "name": "python",
   "nbconvert_exporter": "python",
   "pygments_lexer": "ipython3",
   "version": "3.12.1"
  }
 },
 "nbformat": 4,
 "nbformat_minor": 5
}
