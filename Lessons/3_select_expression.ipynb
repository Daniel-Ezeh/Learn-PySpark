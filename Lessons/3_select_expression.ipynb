{
 "cells": [
  {
   "cell_type": "code",
   "execution_count": 1,
   "id": "c8ed6b81",
   "metadata": {},
   "outputs": [],
   "source": [
    "from pyspark.sql import SparkSession\n",
    "from pyspark.sql.functions import  *"
   ]
  },
  {
   "cell_type": "code",
   "execution_count": 2,
   "id": "012c58de",
   "metadata": {},
   "outputs": [
    {
     "name": "stdout",
     "output_type": "stream",
     "text": [
      "25/10/10 07:40:13 WARN Utils: Your hostname, MacBook-Air-2.local resolves to a loopback address: 127.0.0.1; using 192.168.0.3 instead (on interface en0)\n",
      "25/10/10 07:40:13 WARN Utils: Set SPARK_LOCAL_IP if you need to bind to another address\n"
     ]
    },
    {
     "name": "stderr",
     "output_type": "stream",
     "text": [
      "Setting default log level to \"WARN\".\n",
      "To adjust logging level use sc.setLogLevel(newLevel). For SparkR, use setLogLevel(newLevel).\n"
     ]
    },
    {
     "name": "stdout",
     "output_type": "stream",
     "text": [
      "25/10/10 07:40:14 WARN NativeCodeLoader: Unable to load native-hadoop library for your platform... using builtin-java classes where applicable\n"
     ]
    }
   ],
   "source": [
    "spark = SparkSession.builder.appName(\"Hey\").getOrCreate()\n",
    "json_file_path = \"/Users/nombauser/Desktop/GIT/MyGitRepos/Learn-PySpark/files/sample_2.json\""
   ]
  },
  {
   "cell_type": "code",
   "execution_count": 3,
   "id": "a17de145",
   "metadata": {},
   "outputs": [
    {
     "name": "stderr",
     "output_type": "stream",
     "text": [
      "                                                                                \r"
     ]
    }
   ],
   "source": [
    "df = spark.read.format(\"json\") \\\n",
    "    .option(\"multiline\", \"false\") \\\n",
    "    .load(json_file_path)"
   ]
  },
  {
   "cell_type": "code",
   "execution_count": 4,
   "id": "e371fafb",
   "metadata": {},
   "outputs": [
    {
     "name": "stdout",
     "output_type": "stream",
     "text": [
      "root\n",
      " |-- amazon_price: double (nullable = true)\n",
      " |-- boardgame: string (nullable = true)\n",
      " |-- collection_stats: struct (nullable = true)\n",
      " |    |-- for_trade: long (nullable = true)\n",
      " |    |-- own: long (nullable = true)\n",
      " |    |-- previously_owned: long (nullable = true)\n",
      " |    |-- want_in_trade: long (nullable = true)\n",
      " |    |-- wishlist: long (nullable = true)\n",
      " |-- credits: struct (nullable = true)\n",
      " |    |-- artists: array (nullable = true)\n",
      " |    |    |-- element: string (containsNull = true)\n",
      " |    |-- designers: array (nullable = true)\n",
      " |    |    |-- element: string (containsNull = true)\n",
      " |    |-- developer: array (nullable = true)\n",
      " |    |    |-- element: string (containsNull = true)\n",
      " |    |-- editor: array (nullable = true)\n",
      " |    |    |-- element: string (containsNull = true)\n",
      " |    |-- graphic_designer: array (nullable = true)\n",
      " |    |    |-- element: string (containsNull = true)\n",
      " |    |-- insert_designer: array (nullable = true)\n",
      " |    |    |-- element: string (containsNull = true)\n",
      " |    |-- publishers: array (nullable = true)\n",
      " |    |    |-- element: string (containsNull = true)\n",
      " |    |-- sculptor: array (nullable = true)\n",
      " |    |    |-- element: string (containsNull = true)\n",
      " |    |-- solo_designer: array (nullable = true)\n",
      " |    |    |-- element: string (containsNull = true)\n",
      " |    |-- writer: array (nullable = true)\n",
      " |    |    |-- element: string (containsNull = true)\n",
      " |-- description: string (nullable = true)\n",
      " |-- game_info: struct (nullable = true)\n",
      " |    |-- categories: array (nullable = true)\n",
      " |    |    |-- element: string (containsNull = true)\n",
      " |    |-- family: array (nullable = true)\n",
      " |    |    |-- element: string (containsNull = true)\n",
      " |    |-- mechanisms: array (nullable = true)\n",
      " |    |    |-- element: string (containsNull = true)\n",
      " |    |-- release_year: long (nullable = true)\n",
      " |-- game_stats: struct (nullable = true)\n",
      " |    |-- average_rating: string (nullable = true)\n",
      " |    |-- comments: long (nullable = true)\n",
      " |    |-- fans: long (nullable = true)\n",
      " |    |-- num_of_ratings: long (nullable = true)\n",
      " |    |-- page_views: long (nullable = true)\n",
      " |    |-- std_deviation: string (nullable = true)\n",
      " |    |-- weight: double (nullable = true)\n",
      " |-- link_to_game: string (nullable = true)\n",
      " |-- marketplace: array (nullable = true)\n",
      " |    |-- element: struct (containsNull = true)\n",
      " |    |    |-- base_price: double (nullable = true)\n",
      " |    |    |-- base_price_usd: double (nullable = true)\n",
      " |    |    |-- currency: string (nullable = true)\n",
      " |    |    |-- store: string (nullable = true)\n",
      " |-- minimum_age: long (nullable = true)\n",
      " |-- play_stats: struct (nullable = true)\n",
      " |    |-- all_time_plays: long (nullable = true)\n",
      " |    |-- this_month_plays: long (nullable = true)\n",
      " |-- player_counts: struct (nullable = true)\n",
      " |    |-- max_players: long (nullable = true)\n",
      " |    |-- min_players: long (nullable = true)\n",
      " |-- playtime: struct (nullable = true)\n",
      " |    |-- max_playtime: long (nullable = true)\n",
      " |    |-- min_playtime: long (nullable = true)\n",
      " |-- ranks: struct (nullable = true)\n",
      " |    |-- abstract: long (nullable = true)\n",
      " |    |-- children's: long (nullable = true)\n",
      " |    |-- customizable: long (nullable = true)\n",
      " |    |-- family: long (nullable = true)\n",
      " |    |-- overall: long (nullable = true)\n",
      " |    |-- party: long (nullable = true)\n",
      " |    |-- strategy: long (nullable = true)\n",
      " |    |-- thematic: long (nullable = true)\n",
      " |    |-- war: long (nullable = true)\n",
      " |-- ratings: struct (nullable = true)\n",
      " |    |-- rated_1: long (nullable = true)\n",
      " |    |-- rated_10: long (nullable = true)\n",
      " |    |-- rated_2: long (nullable = true)\n",
      " |    |-- rated_3: long (nullable = true)\n",
      " |    |-- rated_4: long (nullable = true)\n",
      " |    |-- rated_5: long (nullable = true)\n",
      " |    |-- rated_6: long (nullable = true)\n",
      " |    |-- rated_7: long (nullable = true)\n",
      " |    |-- rated_8: long (nullable = true)\n",
      " |    |-- rated_9: long (nullable = true)\n",
      " |-- row_id: long (nullable = true)\n",
      "\n"
     ]
    }
   ],
   "source": [
    "df.printSchema()"
   ]
  },
  {
   "cell_type": "code",
   "execution_count": 4,
   "id": "63e8bf83",
   "metadata": {},
   "outputs": [
    {
     "name": "stdout",
     "output_type": "stream",
     "text": [
      "+-------------------------+------------+-----------------+\n",
      "|boardgame                |amazon_price|developer        |\n",
      "+-------------------------+------------+-----------------+\n",
      "|Brass: Birmingham        |69.95       |null             |\n",
      "|Pandemic Legacy: Season 1|76.97       |null             |\n",
      "|Ark Nova                 |71.81       |null             |\n",
      "|Gloomhaven               |null        |[Marcel Dragomir]|\n",
      "+-------------------------+------------+-----------------+\n",
      "only showing top 4 rows\n",
      "\n"
     ]
    }
   ],
   "source": [
    "# Selecting specific columns\n",
    "df.select(\n",
    "    \"boardgame\",\n",
    "    \"amazon_price\",\n",
    "    \"credits.developer\"\n",
    ").show(n=4, truncate=False)"
   ]
  },
  {
   "cell_type": "code",
   "execution_count": 5,
   "id": "5e1ff672",
   "metadata": {},
   "outputs": [
    {
     "name": "stdout",
     "output_type": "stream",
     "text": [
      "+-------------------------+------------+-----------------+\n",
      "|boardgame                |amazon_price|developer        |\n",
      "+-------------------------+------------+-----------------+\n",
      "|Brass: Birmingham        |69.95       |null             |\n",
      "|Pandemic Legacy: Season 1|76.97       |null             |\n",
      "|Ark Nova                 |71.81       |null             |\n",
      "|Gloomhaven               |null        |[Marcel Dragomir]|\n",
      "+-------------------------+------------+-----------------+\n",
      "only showing top 4 rows\n",
      "\n"
     ]
    }
   ],
   "source": [
    "# 2. Selecting columns using col()\n",
    "df.select(\n",
    "    col(\"boardgame\"),\n",
    "    col(\"amazon_price\"),\n",
    "    col(\"credits.developer\")\n",
    ").show(n=4, truncate=False)"
   ]
  },
  {
   "cell_type": "code",
   "execution_count": 28,
   "id": "bf881c11",
   "metadata": {},
   "outputs": [
    {
     "name": "stdout",
     "output_type": "stream",
     "text": [
      "+-------------------------+------------+-----------------+\n",
      "|Board Game               |Amazon Price|Dev              |\n",
      "+-------------------------+------------+-----------------+\n",
      "|Brass: Birmingham        |69.95       |null             |\n",
      "|Pandemic Legacy: Season 1|76.97       |null             |\n",
      "|Ark Nova                 |71.81       |null             |\n",
      "|Gloomhaven               |null        |[Marcel Dragomir]|\n",
      "+-------------------------+------------+-----------------+\n",
      "only showing top 4 rows\n",
      "\n"
     ]
    }
   ],
   "source": [
    "# Renaming columns using aliasIO\n",
    "df.select(\n",
    "    col(\"boardgame\").alias(\"Board Game\"),\n",
    "    col(\"amazon_price\").alias(\"Amazon Price\"),\n",
    "    col(\"credits.developer\").alias(\"Dev\")\n",
    ").show(n=4, truncate=False)"
   ]
  },
  {
   "cell_type": "code",
   "execution_count": 29,
   "id": "7829e7e9",
   "metadata": {},
   "outputs": [
    {
     "name": "stdout",
     "output_type": "stream",
     "text": [
      "+-------------------------+---------------------+-----------------+\n",
      "|boardgame                |Amazon Price with Tax|Dev              |\n",
      "+-------------------------+---------------------+-----------------+\n",
      "|Brass: Birmingham        |76.94500000000001    |null             |\n",
      "|Pandemic Legacy: Season 1|84.667               |null             |\n",
      "|Ark Nova                 |78.99100000000001    |null             |\n",
      "|Gloomhaven               |null                 |[Marcel Dragomir]|\n",
      "+-------------------------+---------------------+-----------------+\n",
      "only showing top 4 rows\n",
      "\n"
     ]
    }
   ],
   "source": [
    "# Using expressions in select\n",
    "\n",
    "df.select(\n",
    "    \"boardgame\",\n",
    "    expr(\"amazon_price * 1.1\").alias(\"Amazon Price with Tax\"),\n",
    "    expr(\"credits.developer\").alias(\"Dev\")\n",
    ").show(n=4, truncate=False)"
   ]
  },
  {
   "cell_type": "code",
   "execution_count": 19,
   "id": "7ea9ccac",
   "metadata": {},
   "outputs": [
    {
     "name": "stdout",
     "output_type": "stream",
     "text": [
      "+-------------------------+-----------------+------------+--------------+--------------+---------------+\n",
      "|boardgame                |Dev              |amazon_price|Price Category|Price Category|Price Category2|\n",
      "+-------------------------+-----------------+------------+--------------+--------------+---------------+\n",
      "|Brass: Birmingham        |null             |69.95       |Expensive     |Affordable    |Affordable     |\n",
      "|Pandemic Legacy: Season 1|null             |76.97       |Expensive     |Affordable    |Affordable     |\n",
      "|Ark Nova                 |null             |71.81       |Expensive     |Affordable    |Affordable     |\n",
      "|Gloomhaven               |[Marcel Dragomir]|null        |Expensive     |Expensive     |Expensive      |\n",
      "+-------------------------+-----------------+------------+--------------+--------------+---------------+\n",
      "only showing top 4 rows\n",
      "\n"
     ]
    }
   ],
   "source": [
    "# Selecting with conditional Expressions\n",
    "\n",
    "df.select(\n",
    "    \"boardgame\",\n",
    "    col(\"credits.developer\").alias(\"Dev\"),\n",
    "    col(\"amazon_price\"),\n",
    "    expr(\"CASE WHEN amazon_price < 50 THEN 'Affordable' ELSE 'Expensive' END\").alias(\"Price Category\"),\n",
    "    when(df['amazon_price'] < 80, 'Affordable').otherwise(\"Expensive\").alias(\"Price Category\"),\n",
    "    when(col('amazon_price') < 80, 'Affordable').otherwise(\"Expensive\").alias(\"Price Category2\")\n",
    ").show(n=4, truncate=False)"
   ]
  },
  {
   "cell_type": "code",
   "execution_count": 24,
   "id": "7e4d6757",
   "metadata": {},
   "outputs": [
    {
     "name": "stdout",
     "output_type": "stream",
     "text": [
      "+-------------------------+------------+\n",
      "|boardgame                |double_price|\n",
      "+-------------------------+------------+\n",
      "|Brass: Birmingham        |139.9       |\n",
      "|Pandemic Legacy: Season 1|153.94      |\n",
      "|Ark Nova                 |143.62      |\n",
      "|Gloomhaven               |null        |\n",
      "+-------------------------+------------+\n",
      "only showing top 4 rows\n",
      "\n"
     ]
    }
   ],
   "source": [
    "# Using selectExpr() for SQL-like Expressions\n",
    "\n",
    "df.selectExpr(\n",
    "    \"boardgame\",\n",
    "    \"amazon_price * 2 AS double_price\"\n",
    ").show(n=4, truncate=False)"
   ]
  },
  {
   "cell_type": "code",
   "execution_count": 26,
   "id": "fd7dff6a",
   "metadata": {},
   "outputs": [
    {
     "name": "stdout",
     "output_type": "stream",
     "text": [
      "+-------------------------+-----------+\n",
      "|boardgame                |Info       |\n",
      "+-------------------------+-----------+\n",
      "|Brass: Birmingham        |Has Players|\n",
      "|Pandemic Legacy: Season 1|Has Players|\n",
      "|Ark Nova                 |Has Players|\n",
      "|Gloomhaven               |Has Players|\n",
      "+-------------------------+-----------+\n",
      "only showing top 4 rows\n",
      "\n"
     ]
    }
   ],
   "source": [
    "# Using select() with lit() to add constant columns\n",
    "\n",
    "df.select(\n",
    "    \"boardgame\",\n",
    "    lit(\"Has Players\").alias(\"Info\"),\n",
    ").show(n=4, truncate=False)"
   ]
  },
  {
   "cell_type": "code",
   "execution_count": null,
   "id": "05af87f6",
   "metadata": {},
   "outputs": [
    {
     "name": "stdout",
     "output_type": "stream",
     "text": [
      "+--------------------+--------------------+--------------------+\n",
      "|           boardgame|           developer|             artists|\n",
      "+--------------------+--------------------+--------------------+\n",
      "|   Brass: Birmingham|                null|[Gavan Brown, Lin...|\n",
      "|Pandemic Legacy: ...|                null|   [Chris Quilliams]|\n",
      "|            Ark Nova|                null|[Steffen Bieker, ...|\n",
      "|          Gloomhaven|   [Marcel Dragomir]|[Alexandr Elichev...|\n",
      "|Twilight Imperium...|[Dane Beltrami, J...|   [Scott Schomburg]|\n",
      "|      Dune: Imperium|       [Paul Dennen]|[Clay Brooks, Bre...|\n",
      "|   Terraforming Mars|                null|[Isaac Fryxelius,...|\n",
      "|War of the Ring: ...|                null|[John Howe, Fabio...|\n",
      "|Star Wars: Rebellion|    [Steven Kimball]|[Matt Allsopp, Da...|\n",
      "|Dune: Imperium – ...|                null|[Clay Brooks, Der...|\n",
      "|       Spirit Island|      [Ted Vessenes]|[Jason Behnke, Lo...|\n",
      "|Gloomhaven: Jaws ...|[Zachary Cohn, Ma...|[Francesca Baeral...|\n",
      "|        Gaia Project|                null|   [Dennis Lohausen]|\n",
      "|   Twilight Struggle|                null|[Viktor Csete, Ro...|\n",
      "|Through the Ages:...|                null|[Filip Murmak, Ra...|\n",
      "|The Castles of Bu...|                null|[Julien Delval, H...|\n",
      "| Great Western Trail|    [Viktor Kobilke]|     [Andreas Resch]|\n",
      "|Eclipse: Second D...|                null|[Noah Adelman, Je...|\n",
      "|              Scythe|                null|    [Jakub Rozalski]|\n",
      "|   Brass: Lancashire|                null|[Gavan Brown, Lin...|\n",
      "+--------------------+--------------------+--------------------+\n",
      "only showing top 20 rows\n",
      "\n"
     ]
    }
   ],
   "source": [
    "# Selecting columns dynamically\n",
    "# using *args\n",
    "\n",
    "col_list = [\"boardgame\", \"credits.developer\", \"credits.artists\"]\n",
    "df.select(\n",
    "    *col_list\n",
    ").show()"
   ]
  },
  {
   "cell_type": "code",
   "execution_count": 32,
   "id": "48ee0a96",
   "metadata": {},
   "outputs": [
    {
     "name": "stdout",
     "output_type": "stream",
     "text": [
      "+-------------------------+---------------------------------+-----------------------------------------------------------------------------------------------------------------------------------------------------------------------------------------------------------------------------------------------------------------------------------------------------------------------------------------------------------------------------------------------------------------------------------------------------------------------------------------------------------------------------------------+-------------------------------------------------------------------------------------+----------------------------------------------------------------------------------------------------------------------------------------------------------------------------------------------------------------------------------------------------------------------------------------------------------------------------------------------------------------------------------------------------------------------------------------------------------------------------------------------------------------------------------------------------------------------------------------------------------------------------------------------------------------------------------------------------------------------------------------------------------------------------------------------------------------------------------------------------------------------------------------------------------------------------------------------------------------------------------------------------------------------------------------------------------+--------------------------------------------------+-------------------------------------------------------------------+----------------------------------------------------------------------------------------------------------------------------------------------------------------------------------------------------------------------------------------------------------------------------------------------------------------------------+-----------+--------------+-------------+---------+------------------------------------------------+-----------------------------------------------------------+------+\n",
      "|boardgame                |collection_stats                 |credits                                                                                                                                                                                                                                                                                                                                                                                                                                                                                                                                  |description                                                                          |game_info                                                                                                                                                                                                                                                                                                                                                                                                                                                                                                                                                                                                                                                                                                                                                                                                                                                                                                                                                                                                                                                 |game_stats                                        |link_to_game                                                       |marketplace                                                                                                                                                                                                                                                                                                                 |minimum_age|play_stats    |player_counts|playtime |ranks                                           |ratings                                                    |row_id|\n",
      "+-------------------------+---------------------------------+-----------------------------------------------------------------------------------------------------------------------------------------------------------------------------------------------------------------------------------------------------------------------------------------------------------------------------------------------------------------------------------------------------------------------------------------------------------------------------------------------------------------------------------------+-------------------------------------------------------------------------------------+----------------------------------------------------------------------------------------------------------------------------------------------------------------------------------------------------------------------------------------------------------------------------------------------------------------------------------------------------------------------------------------------------------------------------------------------------------------------------------------------------------------------------------------------------------------------------------------------------------------------------------------------------------------------------------------------------------------------------------------------------------------------------------------------------------------------------------------------------------------------------------------------------------------------------------------------------------------------------------------------------------------------------------------------------------+--------------------------------------------------+-------------------------------------------------------------------+----------------------------------------------------------------------------------------------------------------------------------------------------------------------------------------------------------------------------------------------------------------------------------------------------------------------------+-----------+--------------+-------------+---------+------------------------------------------------+-----------------------------------------------------------+------+\n",
      "|Brass: Birmingham        |{278, 76201, 3420, 1758, 20334}  |{[Gavan Brown, Lina Cossette, David Forest, Gui Landgraf, Damien Mammoliti, Matt Tolman], [Gavan Brown, Matt Tolman, Martin Wallace], null, null, null, null, [Roxley, Arclight Games, Board Game Rookie, BoardM Factory, CMON Global Limited, Conclave Editora, CoolPlay, CrowD Games, Dexker Games, Funforge, Gém Klub Kft., Ghenos Games, Giant Roc, Lanlalen, Lord of Boards, Maldito Games, PHALANX, Rebel Sp. z o.o., TLAMA games, White Goblin Games, 盒拍工作室 Hepa Studio], null, null, null}                                  |Build networks, grow industries, and navigate the world of the Industrial Revolution.|{[Age of Reason, Economic, Industry / Manufacturing, Post-Napoleonic, Trains, Transportation], [Cities: Birmingham (England), Components: Map (Regional scale), Components: Multi-Use Cards, Country: England, Country: United Kingdom, Crowdfunding: Kickstarter, Crowdfunding: Spieleschmiede, Digital Implementations: Steam, Digital Implementations: Tabletopia, Digital Implementations: VASSAL, Food & Drink: Beer, Game: Brass, History: Industrial Revolution, Misc: LongPack Games, Misc: Watch It Played How To Videos, Occupation: Engineer, Organizations: The Game Artisans of Canada, Theme: Canals], [Chaining, End Game Bonuses, Hand Management, Income, Loans, Market, Multi-Use Cards, Network and Route Building, Ownership, Tags, Tech Trees / Tech Tracks, Tile Placement, Turn Order: Stat-Based, Variable Set-up], 2018}                                                                                                                                                                                                         |{8.575, 7358, 6726, 53548, 5555379, 1.42, 3.87}   |https://boardgamegeek.com/boardgame/224517/brass-birmingham        |[{79.99, 79.99, USD, Suggested retail}, {69.95, 69.95, USD, Amazon}, {135.0, 97.15, CAD, BoardGameBliss}, {62.95, 73.15, EUR, Philibert}, {68.99, 92.66, GBP, Zatu Games}, {13.81, 13.81, USD, eBay}]                                                                                                                       |14         |{152594, 1208}|{4, 2}       |{120, 60}|{null, null, null, null, 1, null, 1, null, null}|{361, 15000, 147, 246, 310, 628, 1700, 4500, 12000, 18000} |1     |\n",
      "|Pandemic Legacy: Season 1|{509, 87378, 12927, 799, 14478}  |{[Chris Quilliams], [Rob Daviau, Matt Leacock], null, null, null, null, [Z-Man Games, Asterion Press, Devir, Filosofia Éditions, Gém Klub Kft., Hobby Japan, Jolly Thinkers, Korea Boardgames, Lacerta, Lifestyle Boardgames Ltd, MINDOK, Ігромаг], null, null, null}                                                                                                                                                                                                                                                                    |Mutating diseases are spreading around the world - can your team save humanity?      |{[Environmental, Medical], [Components: Map (Global Scale), Components: Multi-Use Cards, Game: Pandemic, Mechanism: Campaign Games, Mechanism: Legacy, Medical: Diseases, Misc: Limited Replayability, Misc: Made by Panda, Occupation: Dispatcher, Occupation: Medic / Doctor / Nurses, Occupation: Researcher / Scientist, Region: The World, Theme: Science, Versions & Editions: Legacy Versions of Non-Legacy Games], [Action Points, Cooperative Game, Hand Management, Legacy Game, Multi-Use Cards, Point to Point Movement, Scenario / Mission / Campaign Game, Set Collection, Tags, Trading, Variable Player Powers], 2015}                                                                                                                                                                                                                                                                                                                                                                                                                    |{8.512, 8384, 4221, 56071, 4592660, 1.60, 2.83}   |https://boardgamegeek.com/boardgame/161936/pandemic-legacy-season-1|[{89.99, 89.99, USD, Suggested retail}, {76.97, 76.97, USD, Amazon}, {71.99, 71.99, USD, Cardhaus Games}, {71.99, 71.99, USD, Miniature Market}, {72.0, 72.0, USD, Noble Knight Games}, {13.56, 13.56, USD, eBay}]                                                                                                          |13         |{301410, 387} |{4, 2}       |{60, 60} |{null, null, null, null, 2, null, 3, 1, null}   |{597, 17000, 265, 369, 414, 880, 2200, 5000, 11000, 18000} |2     |\n",
      "|Ark Nova                 |{415, 79476, 3234, 1073, 16121}  |{[Steffen Bieker, Loïc Billiau, Dennis Lohausen, Christof Tisch], [Mathias Wigge], null, [Frank Heeren, Inga Keutmann, Bastian Winkelhaus], [Steffen Bieker, Christof Tisch], null, [Feuerland Spiele, Capstone Games, CMON Global Limited, Cranio Creations, Game Harbor, Gém Klub Kft., Grok Games, IGAMES, Korea Boardgames, Lautapelit.fi, Ludofy Creative, Maldito Games, MINDOK, MIPL, Portal Games, Regatul Jocurilor, Super Meeple, テンデイズゲームズ (TendaysGames), Tower Tactic Games, White Goblin Games], null, null, null}|Plan and build a modern, scientifically managed zoo to support conservation projects.|{[Animals, Card Game, Economic, Environmental], [Animals: Okapi, Components: Hexagonal Tiles, Continents: Africa, Continents: Asia, Continents: Europe, Continents: North America, Continents: South America, Country: Australia, Digital Implementations: Apple App Store, Digital Implementations: Board Game Arena, Digital Implementations: Google Play, Digital Implementations: Steam, Digital Implementations: TableTop Simulator Mod (TTS), Game: Ark Nova, Mechanism: Tableau Building, Players: Games with Solitaire Rules, Theme: Biology, Theme: Ecology, Theme: Science, Theme: Zoos, Aquaria, Safari Parks], [Contracts, End Game Bonuses, Events, Grid Coverage, Hand Management, Hexagon Grid, Income, Increase Value of Unchosen Resources, Open Drafting, Race, Set Collection, Solo / Solitaire Game, Tags, Tile Placement, Track Movement, Variable Player Powers, Variable Set-up], 2021}                                                                                                                                            |{8.539, 7213, 7465, 54528, 6113759, 1.39, 3.79}   |https://boardgamegeek.com/boardgame/342942/ark-nova                |[{71.81, 71.81, USD, Amazon}, {71.95, 51.78, CAD, BoardGameBliss}, {59.96, 59.96, USD, Boardtopia}, {74.95, 74.95, USD, Cardhaus Games}, {84.99, 61.16, CAD, K&B Hobbies and Games}, {62.9, 73.09, EUR, Philibert}, {48.95, 65.74, GBP, Zatu Games}, {74.99, 74.99, USD, Zulu's Board Game Cafe}, {24.51, 24.51, USD, eBay}]|14         |{528979, 7019}|{4, 1}       |{150, 90}|{null, null, null, null, 3, null, 2, null, null}|{190, 15000, 120, 307, 376, 783, 2000, 5000, 12000, 19000} |3     |\n",
      "|Gloomhaven               |{1210, 101913, 8682, 1164, 21597}|{[Alexandr Elichev, Josh T. McDowell, Alvaro Nebot], [Isaac Childres], [Marcel Dragomir], null, null, null, [Cephalofair Games, Albi, Albi Polska, Arclight Games, Feuerland Spiele, Galápagos Jogos, Games Warehouse, Gém Klub Kft., Hobby World, Korea Boardgames, MYBG Co., Ltd.], null, null, null}                                                                                                                                                                                                                                  |Vanquish monsters with strategic cardplay. Fulfill your quest to leave your legacy!  |{[Adventure, Exploration, Fantasy, Fighting, Miniatures], [Category: Dungeon Crawler, Components: Map (City Scale), Components: Miniatures, Components: Multi-Use Cards, Components: Standees, Creatures: Demons, Creatures: Dragons, Creatures: Monsters, Crowdfunding: Kickstarter, Digital Implementations: Steam, Digital Implementations: TableTop Simulator Mod (TTS), Game: Gloomhaven, Mechanism: Campaign Games, Mechanism: Legacy, Misc: Forteller Audio Narration, Misc: Made by Panda, Players: Games with Solitaire Rules], [Action Queue, Action Retrieval, Campaign / Battle Card Driven, Card Play Conflict Resolution, Communication Limits, Cooperative Game, Critical Hits and Failures, Deck Construction, Grid Movement, Hand Management, Hexagon Grid, Legacy Game, Line of Sight, Modular Board, Multi-Use Cards, Narrative Choice / Paragraph, Once-Per-Game Abilities, Role Playing, Scenario / Mission / Campaign Game, Simultaneous Action Selection, Solo / Solitaire Game, Storytelling, Tags, Variable Player Powers], 2017}|{8.557, 11396, 10780, 65443, 13606453, 1.74, 3.92}|https://boardgamegeek.com/boardgame/174430/gloomhaven              |[{175.0, 175.0, USD, Noble Knight Games}, {159.9, 185.81, EUR, Philibert}, {4.98, 4.98, USD, eBay}]                                                                                                                                                                                                                         |14         |{542336, 1206}|{4, 1}       |{120, 60}|{null, null, null, null, 4, null, 4, 2, null}   |{705, 25000, 377, 613, 693, 1400, 3000, 5500, 11000, 17000}|4     |\n",
      "+-------------------------+---------------------------------+-----------------------------------------------------------------------------------------------------------------------------------------------------------------------------------------------------------------------------------------------------------------------------------------------------------------------------------------------------------------------------------------------------------------------------------------------------------------------------------------------------------------------------------------+-------------------------------------------------------------------------------------+----------------------------------------------------------------------------------------------------------------------------------------------------------------------------------------------------------------------------------------------------------------------------------------------------------------------------------------------------------------------------------------------------------------------------------------------------------------------------------------------------------------------------------------------------------------------------------------------------------------------------------------------------------------------------------------------------------------------------------------------------------------------------------------------------------------------------------------------------------------------------------------------------------------------------------------------------------------------------------------------------------------------------------------------------------+--------------------------------------------------+-------------------------------------------------------------------+----------------------------------------------------------------------------------------------------------------------------------------------------------------------------------------------------------------------------------------------------------------------------------------------------------------------------+-----------+--------------+-------------+---------+------------------------------------------------+-----------------------------------------------------------+------+\n",
      "only showing top 4 rows\n",
      "\n"
     ]
    }
   ],
   "source": [
    "# Selecting all columns except one\n",
    "\n",
    "df.select([\n",
    "        col for col in df.columns if col != \"amazon_price\"\n",
    "    ]).show(4, truncate=False)"
   ]
  },
  {
   "cell_type": "markdown",
   "id": "76ce67c0",
   "metadata": {},
   "source": [
    "#### Using `orderBy()` Function"
   ]
  },
  {
   "cell_type": "code",
   "execution_count": 4,
   "id": "da43e296",
   "metadata": {},
   "outputs": [
    {
     "name": "stdout",
     "output_type": "stream",
     "text": [
      "+-------------------------+-----------------+---------------------------------------------------------------------------------------+\n",
      "|boardgame                |developer        |artists                                                                                |\n",
      "+-------------------------+-----------------+---------------------------------------------------------------------------------------+\n",
      "|Brass: Birmingham        |null             |[Gavan Brown, Lina Cossette, David Forest, Gui Landgraf, Damien Mammoliti, Matt Tolman]|\n",
      "|Pandemic Legacy: Season 1|null             |[Chris Quilliams]                                                                      |\n",
      "|Ark Nova                 |null             |[Steffen Bieker, Loïc Billiau, Dennis Lohausen, Christof Tisch]                        |\n",
      "|Gloomhaven               |[Marcel Dragomir]|[Alexandr Elichev, Josh T. McDowell, Alvaro Nebot]                                     |\n",
      "+-------------------------+-----------------+---------------------------------------------------------------------------------------+\n",
      "only showing top 4 rows\n",
      "\n"
     ]
    }
   ],
   "source": [
    "col_list = [\"boardgame\", \"credits.developer\", \"credits.artists\"]\n",
    "df2 = df.select(\n",
    "    *col_list\n",
    ")\n",
    "\n",
    "df2.show(truncate=False, n=4)\n"
   ]
  },
  {
   "cell_type": "code",
   "execution_count": 38,
   "id": "ff205e1e",
   "metadata": {},
   "outputs": [
    {
     "name": "stdout",
     "output_type": "stream",
     "text": [
      "+---------------------------------------+---------+----------------------------+\n",
      "|boardgame                              |developer|artists                     |\n",
      "+---------------------------------------+---------+----------------------------+\n",
      "|null                                   |null     |null                        |\n",
      "|13 Days: The Cuban Missile Crisis, 1962|null     |[Jacob Walker]              |\n",
      "|1775: Rebellion                        |null     |[Jarek Nocoń, Steve Paschal]|\n",
      "|1812: The Invasion of Canada           |null     |[Jarek Nocoń, Steve Paschal]|\n",
      "+---------------------------------------+---------+----------------------------+\n",
      "only showing top 4 rows\n",
      "\n"
     ]
    }
   ],
   "source": [
    "# Order by a single column (Ascending default)\n",
    "\n",
    "df2.orderBy(\"boardgame\").show(4, truncate=False)"
   ]
  },
  {
   "cell_type": "code",
   "execution_count": 39,
   "id": "5c189d9b",
   "metadata": {},
   "outputs": [
    {
     "name": "stdout",
     "output_type": "stream",
     "text": [
      "+-------------------------------------+---------------------------+--------------------------------------+\n",
      "|boardgame                            |developer                  |artists                               |\n",
      "+-------------------------------------+---------------------------+--------------------------------------+\n",
      "|스플렌더: Pokémon (Splendor: Pokémon)|null                       |null                                  |\n",
      "|ito                                  |null                       |[326, Arclight, Nadia Carrim]         |\n",
      "|burncycle                            |[Salem Scott, Josh Wielgus]|[Yoann Boissonnet, Anthony LeTourneau]|\n",
      "|boop.                                |null                       |[Curt Covert]                         |\n",
      "+-------------------------------------+---------------------------+--------------------------------------+\n",
      "only showing top 4 rows\n",
      "\n"
     ]
    }
   ],
   "source": [
    "# Order by single column descending\n",
    "\n",
    "df2.orderBy(col(\"boardgame\").desc()).show(4, truncate=False)\n"
   ]
  },
  {
   "cell_type": "code",
   "execution_count": 44,
   "id": "4e224335",
   "metadata": {},
   "outputs": [
    {
     "name": "stdout",
     "output_type": "stream",
     "text": [
      "+-------------------------------------+---------------------------+--------------------------------------+\n",
      "|boardgame                            |developer                  |artists                               |\n",
      "+-------------------------------------+---------------------------+--------------------------------------+\n",
      "|스플렌더: Pokémon (Splendor: Pokémon)|null                       |null                                  |\n",
      "|ito                                  |null                       |[326, Arclight, Nadia Carrim]         |\n",
      "|burncycle                            |[Salem Scott, Josh Wielgus]|[Yoann Boissonnet, Anthony LeTourneau]|\n",
      "|boop.                                |null                       |[Curt Covert]                         |\n",
      "+-------------------------------------+---------------------------+--------------------------------------+\n",
      "only showing top 4 rows\n",
      "\n"
     ]
    }
   ],
   "source": [
    "# Order by multiple columns\n",
    "\n",
    "df2.orderBy([\"boardgame\", \"developer\"], ascending=[False, True]).show(4, truncate=False)"
   ]
  },
  {
   "cell_type": "code",
   "execution_count": 42,
   "id": "c3e3fdd6",
   "metadata": {},
   "outputs": [
    {
     "name": "stdout",
     "output_type": "stream",
     "text": [
      "+-------------------------------------+---------------------------+--------------------------------------+\n",
      "|boardgame                            |developer                  |artists                               |\n",
      "+-------------------------------------+---------------------------+--------------------------------------+\n",
      "|스플렌더: Pokémon (Splendor: Pokémon)|null                       |null                                  |\n",
      "|ito                                  |null                       |[326, Arclight, Nadia Carrim]         |\n",
      "|burncycle                            |[Salem Scott, Josh Wielgus]|[Yoann Boissonnet, Anthony LeTourneau]|\n",
      "|boop.                                |null                       |[Curt Covert]                         |\n",
      "+-------------------------------------+---------------------------+--------------------------------------+\n",
      "only showing top 4 rows\n",
      "\n"
     ]
    }
   ],
   "source": [
    "# Order by multiple columns in custom order\n",
    "\n",
    "df2.orderBy(\n",
    "    col(\"boardgame\").desc(),\n",
    "    col(\"developer\").asc()\n",
    ").show(4, truncate=False)"
   ]
  },
  {
   "cell_type": "code",
   "execution_count": 45,
   "id": "d75d58ca",
   "metadata": {},
   "outputs": [
    {
     "name": "stdout",
     "output_type": "stream",
     "text": [
      "+-------------------------------------+---------------------------+--------------------------------------+\n",
      "|boardgame                            |developer                  |artists                               |\n",
      "+-------------------------------------+---------------------------+--------------------------------------+\n",
      "|스플렌더: Pokémon (Splendor: Pokémon)|null                       |null                                  |\n",
      "|ito                                  |null                       |[326, Arclight, Nadia Carrim]         |\n",
      "|burncycle                            |[Salem Scott, Josh Wielgus]|[Yoann Boissonnet, Anthony LeTourneau]|\n",
      "|boop.                                |null                       |[Curt Covert]                         |\n",
      "+-------------------------------------+---------------------------+--------------------------------------+\n",
      "only showing top 4 rows\n",
      "\n"
     ]
    }
   ],
   "source": [
    "df2.sort(\n",
    "    col(\"boardgame\").desc(),\n",
    "    col(\"developer\").asc()\n",
    ").show(4, truncate=False)"
   ]
  },
  {
   "cell_type": "code",
   "execution_count": null,
   "id": "ee657734",
   "metadata": {},
   "outputs": [],
   "source": []
  },
  {
   "cell_type": "markdown",
   "id": "1a3442a8",
   "metadata": {},
   "source": [
    "#### How to use `withColumn()` Function"
   ]
  },
  {
   "cell_type": "code",
   "execution_count": 5,
   "id": "6b746a9a",
   "metadata": {},
   "outputs": [
    {
     "name": "stdout",
     "output_type": "stream",
     "text": [
      "+-------------------------+------------+-----------------+---------------------------------------------------------------------------------------+\n",
      "|boardgame                |amazon_price|developer        |artists                                                                                |\n",
      "+-------------------------+------------+-----------------+---------------------------------------------------------------------------------------+\n",
      "|Brass: Birmingham        |69.95       |null             |[Gavan Brown, Lina Cossette, David Forest, Gui Landgraf, Damien Mammoliti, Matt Tolman]|\n",
      "|Pandemic Legacy: Season 1|76.97       |null             |[Chris Quilliams]                                                                      |\n",
      "|Ark Nova                 |71.81       |null             |[Steffen Bieker, Loïc Billiau, Dennis Lohausen, Christof Tisch]                        |\n",
      "|Gloomhaven               |null        |[Marcel Dragomir]|[Alexandr Elichev, Josh T. McDowell, Alvaro Nebot]                                     |\n",
      "+-------------------------+------------+-----------------+---------------------------------------------------------------------------------------+\n",
      "only showing top 4 rows\n",
      "\n"
     ]
    }
   ],
   "source": [
    "col_list = [\"boardgame\", \"amazon_price\", \"credits.developer\", \"credits.artists\"]\n",
    "df2 = df.select(\n",
    "    *col_list\n",
    ")\n",
    "\n",
    "df2.show(truncate=False, n=4)\n",
    "\n"
   ]
  },
  {
   "cell_type": "code",
   "execution_count": 12,
   "id": "fc1dc261",
   "metadata": {},
   "outputs": [
    {
     "name": "stdout",
     "output_type": "stream",
     "text": [
      "+-------------------------+------------+-----------------+---------------------------------------------------------------------------------------+-----+\n",
      "|boardgame                |amazon_price|developer        |artists                                                                                |bonus|\n",
      "+-------------------------+------------+-----------------+---------------------------------------------------------------------------------------+-----+\n",
      "|Brass: Birmingham        |69.95       |null             |[Gavan Brown, Lina Cossette, David Forest, Gui Landgraf, Damien Mammoliti, Matt Tolman]|1000 |\n",
      "|Pandemic Legacy: Season 1|76.97       |null             |[Chris Quilliams]                                                                      |1000 |\n",
      "|Ark Nova                 |71.81       |null             |[Steffen Bieker, Loïc Billiau, Dennis Lohausen, Christof Tisch]                        |1000 |\n",
      "|Gloomhaven               |null        |[Marcel Dragomir]|[Alexandr Elichev, Josh T. McDowell, Alvaro Nebot]                                     |1000 |\n",
      "+-------------------------+------------+-----------------+---------------------------------------------------------------------------------------+-----+\n",
      "only showing top 4 rows\n",
      "\n"
     ]
    }
   ],
   "source": [
    "# Adding a new column using withColumn()\n",
    "\n",
    "df_new = df2.withColumn(\"bonus\", lit(1000)) # Adding a constant value column\n",
    "df_new.show(4, truncate=False)"
   ]
  },
  {
   "cell_type": "code",
   "execution_count": 11,
   "id": "8af66f94",
   "metadata": {},
   "outputs": [
    {
     "name": "stdout",
     "output_type": "stream",
     "text": [
      "+-------------------------+-----------------+-----------------+---------------------------------------------------------------------------------------+\n",
      "|boardgame                |amazon_price     |developer        |artists                                                                                |\n",
      "+-------------------------+-----------------+-----------------+---------------------------------------------------------------------------------------+\n",
      "|Brass: Birmingham        |83.94            |null             |[Gavan Brown, Lina Cossette, David Forest, Gui Landgraf, Damien Mammoliti, Matt Tolman]|\n",
      "|Pandemic Legacy: Season 1|92.36399999999999|null             |[Chris Quilliams]                                                                      |\n",
      "|Ark Nova                 |86.172           |null             |[Steffen Bieker, Loïc Billiau, Dennis Lohausen, Christof Tisch]                        |\n",
      "|Gloomhaven               |null             |[Marcel Dragomir]|[Alexandr Elichev, Josh T. McDowell, Alvaro Nebot]                                     |\n",
      "+-------------------------+-----------------+-----------------+---------------------------------------------------------------------------------------+\n",
      "only showing top 4 rows\n",
      "\n"
     ]
    }
   ],
   "source": [
    "# Modifying an existing column\n",
    "\n",
    "df_new = df2.withColumn('amazon_price', col('amazon_price') * 1.2)\n",
    "df_new.show(4, truncate=False)"
   ]
  },
  {
   "cell_type": "code",
   "execution_count": 14,
   "id": "4eb2dfe2",
   "metadata": {},
   "outputs": [
    {
     "name": "stdout",
     "output_type": "stream",
     "text": [
      "+-------------------------+------------+-----------------+---------------------------------------------------------------------------------------+---------------------+\n",
      "|boardgame                |amazon_price|developer        |artists                                                                                |amazon_price_with_tax|\n",
      "+-------------------------+------------+-----------------+---------------------------------------------------------------------------------------+---------------------+\n",
      "|Brass: Birmingham        |69.95       |null             |[Gavan Brown, Lina Cossette, David Forest, Gui Landgraf, Damien Mammoliti, Matt Tolman]|79.95                |\n",
      "|Pandemic Legacy: Season 1|76.97       |null             |[Chris Quilliams]                                                                      |86.97                |\n",
      "|Ark Nova                 |71.81       |null             |[Steffen Bieker, Loïc Billiau, Dennis Lohausen, Christof Tisch]                        |81.81                |\n",
      "|Gloomhaven               |null        |[Marcel Dragomir]|[Alexandr Elichev, Josh T. McDowell, Alvaro Nebot]                                     |null                 |\n",
      "+-------------------------+------------+-----------------+---------------------------------------------------------------------------------------+---------------------+\n",
      "only showing top 4 rows\n",
      "\n"
     ]
    }
   ],
   "source": [
    "# Using withColumn with expression\n",
    "\n",
    "df_expr = df2.withColumn(\"amazon_price_with_tax\", expr(\"amazon_price + 10\"))\n",
    "df_expr.show(4, truncate=False)"
   ]
  },
  {
   "cell_type": "code",
   "execution_count": 18,
   "id": "f13cf2fd",
   "metadata": {},
   "outputs": [
    {
     "name": "stdout",
     "output_type": "stream",
     "text": [
      "+-------------------------+------------+-----------------+---------------------------------------------------------------------------------------+\n",
      "|boardgame                |amazon_price|developer        |artists                                                                                |\n",
      "+-------------------------+------------+-----------------+---------------------------------------------------------------------------------------+\n",
      "|Brass: Birmingham        |69          |null             |[Gavan Brown, Lina Cossette, David Forest, Gui Landgraf, Damien Mammoliti, Matt Tolman]|\n",
      "|Pandemic Legacy: Season 1|76          |null             |[Chris Quilliams]                                                                      |\n",
      "|Ark Nova                 |71          |null             |[Steffen Bieker, Loïc Billiau, Dennis Lohausen, Christof Tisch]                        |\n",
      "|Gloomhaven               |null        |[Marcel Dragomir]|[Alexandr Elichev, Josh T. McDowell, Alvaro Nebot]                                     |\n",
      "+-------------------------+------------+-----------------+---------------------------------------------------------------------------------------+\n",
      "only showing top 4 rows\n",
      "\n"
     ]
    }
   ],
   "source": [
    "# Changing the data type of a column\n",
    "# Convert amazon_price to IntegerType\n",
    "\n",
    "df_cast = df2.withColumn('amazon_price', col('amazon_price').cast('Integer'))\n",
    "df_cast.show(4, truncate=False)"
   ]
  },
  {
   "cell_type": "code",
   "execution_count": 20,
   "id": "969a7e62",
   "metadata": {},
   "outputs": [
    {
     "name": "stdout",
     "output_type": "stream",
     "text": [
      "+-------------------------+-----------------+---------------------------------------------------------------------------------------+------------+\n",
      "|boardgame                |developer        |artists                                                                                |amazon price|\n",
      "+-------------------------+-----------------+---------------------------------------------------------------------------------------+------------+\n",
      "|Brass: Birmingham        |null             |[Gavan Brown, Lina Cossette, David Forest, Gui Landgraf, Damien Mammoliti, Matt Tolman]|69.95       |\n",
      "|Pandemic Legacy: Season 1|null             |[Chris Quilliams]                                                                      |76.97       |\n",
      "|Ark Nova                 |null             |[Steffen Bieker, Loïc Billiau, Dennis Lohausen, Christof Tisch]                        |71.81       |\n",
      "|Gloomhaven               |[Marcel Dragomir]|[Alexandr Elichev, Josh T. McDowell, Alvaro Nebot]                                     |null        |\n",
      "+-------------------------+-----------------+---------------------------------------------------------------------------------------+------------+\n",
      "only showing top 4 rows\n",
      "\n"
     ]
    }
   ],
   "source": [
    "# Renaming column by creating a new one and dropping the old one\n",
    "\n",
    "df_renamed = df2.withColumn('amazon price', col('amazon_price')).drop('amazon_price')\n",
    "df_renamed.show(n=4, truncate=False)"
   ]
  },
  {
   "cell_type": "code",
   "execution_count": 21,
   "id": "8ca44733",
   "metadata": {},
   "outputs": [
    {
     "name": "stdout",
     "output_type": "stream",
     "text": [
      "+-------------------------+------------+-----------------+---------------------------------------------------------------------------------------+\n",
      "|boardgame                |amazon price|developer        |artists                                                                                |\n",
      "+-------------------------+------------+-----------------+---------------------------------------------------------------------------------------+\n",
      "|Brass: Birmingham        |69.95       |null             |[Gavan Brown, Lina Cossette, David Forest, Gui Landgraf, Damien Mammoliti, Matt Tolman]|\n",
      "|Pandemic Legacy: Season 1|76.97       |null             |[Chris Quilliams]                                                                      |\n",
      "|Ark Nova                 |71.81       |null             |[Steffen Bieker, Loïc Billiau, Dennis Lohausen, Christof Tisch]                        |\n",
      "|Gloomhaven               |null        |[Marcel Dragomir]|[Alexandr Elichev, Josh T. McDowell, Alvaro Nebot]                                     |\n",
      "+-------------------------+------------+-----------------+---------------------------------------------------------------------------------------+\n",
      "only showing top 4 rows\n",
      "\n"
     ]
    }
   ],
   "source": [
    "# using withColumnRenamed\n",
    "\n",
    "df_renamed = df2.withColumnRenamed('amazon_price', 'amazon price')\n",
    "df_renamed.show(n=4, truncate=False)"
   ]
  },
  {
   "cell_type": "code",
   "execution_count": 26,
   "id": "b1ac520b",
   "metadata": {},
   "outputs": [
    {
     "name": "stdout",
     "output_type": "stream",
     "text": [
      "+-------------------------+------------+-----------------+---------------------------------------------------------------------------------------+-----+-----+\n",
      "|boardgame                |amazon price|developer        |artists                                                                                |bonus|check|\n",
      "+-------------------------+------------+-----------------+---------------------------------------------------------------------------------------+-----+-----+\n",
      "|Brass: Birmingham        |69          |null             |[Gavan Brown, Lina Cossette, David Forest, Gui Landgraf, Damien Mammoliti, Matt Tolman]|1000 |Low  |\n",
      "|Pandemic Legacy: Season 1|76          |null             |[Chris Quilliams]                                                                      |1000 |High |\n",
      "|Ark Nova                 |71          |null             |[Steffen Bieker, Loïc Billiau, Dennis Lohausen, Christof Tisch]                        |1000 |High |\n",
      "|Gloomhaven               |null        |[Marcel Dragomir]|[Alexandr Elichev, Josh T. McDowell, Alvaro Nebot]                                     |1000 |High |\n",
      "+-------------------------+------------+-----------------+---------------------------------------------------------------------------------------+-----+-----+\n",
      "only showing top 4 rows\n",
      "\n"
     ]
    }
   ],
   "source": [
    "# Putting it all together\n",
    "\n",
    "new_df = (\n",
    "df2.withColumnRenamed('amazon_price', 'amazon price')\n",
    ".withColumn('amazon price', col('amazon price').cast('integer'))\n",
    ".withColumn('bonus', lit(1000))\n",
    ".withColumn('check', when(col('amazon price') < 70, \"Low\").otherwise(\"High\"))\n",
    ")\n",
    "new_df.show(n=4, truncate=False)"
   ]
  },
  {
   "cell_type": "markdown",
   "id": "b3b8dced",
   "metadata": {},
   "source": [
    "#### Using `Limit()` Function"
   ]
  },
  {
   "cell_type": "code",
   "execution_count": 27,
   "id": "2cd9caa8",
   "metadata": {},
   "outputs": [
    {
     "name": "stdout",
     "output_type": "stream",
     "text": [
      "+--------------------+------------+--------------------+--------------------+-----+-----+\n",
      "|           boardgame|amazon price|           developer|             artists|bonus|check|\n",
      "+--------------------+------------+--------------------+--------------------+-----+-----+\n",
      "|   Brass: Birmingham|          69|                null|[Gavan Brown, Lin...| 1000|  Low|\n",
      "|Pandemic Legacy: ...|          76|                null|   [Chris Quilliams]| 1000| High|\n",
      "|            Ark Nova|          71|                null|[Steffen Bieker, ...| 1000| High|\n",
      "|          Gloomhaven|        null|   [Marcel Dragomir]|[Alexandr Elichev...| 1000| High|\n",
      "|Twilight Imperium...|         172|[Dane Beltrami, J...|   [Scott Schomburg]| 1000| High|\n",
      "+--------------------+------------+--------------------+--------------------+-----+-----+\n",
      "\n"
     ]
    }
   ],
   "source": [
    "new_df.limit(5).show()"
   ]
  },
  {
   "cell_type": "code",
   "execution_count": 28,
   "id": "5a51be01",
   "metadata": {},
   "outputs": [
    {
     "name": "stdout",
     "output_type": "stream",
     "text": [
      "+--------------------+------------+--------------------+--------------------+-----+-----+\n",
      "|           boardgame|amazon price|           developer|             artists|bonus|check|\n",
      "+--------------------+------------+--------------------+--------------------+-----+-----+\n",
      "|   Brass: Birmingham|          69|                null|[Gavan Brown, Lin...| 1000|  Low|\n",
      "|Pandemic Legacy: ...|          76|                null|   [Chris Quilliams]| 1000| High|\n",
      "|            Ark Nova|          71|                null|[Steffen Bieker, ...| 1000| High|\n",
      "|          Gloomhaven|        null|   [Marcel Dragomir]|[Alexandr Elichev...| 1000| High|\n",
      "|Twilight Imperium...|         172|[Dane Beltrami, J...|   [Scott Schomburg]| 1000| High|\n",
      "+--------------------+------------+--------------------+--------------------+-----+-----+\n",
      "\n"
     ]
    }
   ],
   "source": [
    "# Storing limited dataframe\n",
    "\n",
    "lim_df = new_df.limit(5)\n",
    "lim_df.show()"
   ]
  },
  {
   "cell_type": "markdown",
   "id": "6795c127",
   "metadata": {},
   "source": [
    "#### Using `describe()` Function"
   ]
  },
  {
   "cell_type": "code",
   "execution_count": 11,
   "id": "5c42681a",
   "metadata": {},
   "outputs": [
    {
     "name": "stdout",
     "output_type": "stream",
     "text": [
      "+-------+------------------+\n",
      "|summary|      amazon_price|\n",
      "+-------+------------------+\n",
      "|  count|              1118|\n",
      "|   mean|59.485071556350256|\n",
      "| stddev| 61.14321933522373|\n",
      "|    min|               7.2|\n",
      "|    max|            979.98|\n",
      "+-------+------------------+\n",
      "\n"
     ]
    }
   ],
   "source": [
    "df2.describe('amazon_price').show()"
   ]
  },
  {
   "cell_type": "markdown",
   "id": "616930cc",
   "metadata": {},
   "source": [
    "#### Using `distinct()` Function"
   ]
  },
  {
   "cell_type": "code",
   "execution_count": 37,
   "id": "cd37b32e",
   "metadata": {},
   "outputs": [
    {
     "name": "stdout",
     "output_type": "stream",
     "text": [
      "+-----+-----+\n",
      "|check|bonus|\n",
      "+-----+-----+\n",
      "|  Low| 1000|\n",
      "| High| 1000|\n",
      "+-----+-----+\n",
      "\n"
     ]
    }
   ],
   "source": [
    "df_distinct = new_df.select('check', 'bonus').distinct()\n",
    "df_distinct.show()"
   ]
  },
  {
   "cell_type": "markdown",
   "id": "a3a3d1e5",
   "metadata": {},
   "source": [
    "#### Using `drop()` Function"
   ]
  },
  {
   "cell_type": "code",
   "execution_count": 39,
   "id": "1d230591",
   "metadata": {},
   "outputs": [
    {
     "name": "stdout",
     "output_type": "stream",
     "text": [
      "+-------------------------+------------+---------------------------------------------------------------------------------------+\n",
      "|boardgame                |amazon_price|artists                                                                                |\n",
      "+-------------------------+------------+---------------------------------------------------------------------------------------+\n",
      "|Brass: Birmingham        |69.95       |[Gavan Brown, Lina Cossette, David Forest, Gui Landgraf, Damien Mammoliti, Matt Tolman]|\n",
      "|Pandemic Legacy: Season 1|76.97       |[Chris Quilliams]                                                                      |\n",
      "|Ark Nova                 |71.81       |[Steffen Bieker, Loïc Billiau, Dennis Lohausen, Christof Tisch]                        |\n",
      "|Gloomhaven               |null        |[Alexandr Elichev, Josh T. McDowell, Alvaro Nebot]                                     |\n",
      "+-------------------------+------------+---------------------------------------------------------------------------------------+\n",
      "only showing top 4 rows\n",
      "\n"
     ]
    }
   ],
   "source": [
    "# Dropping single columns\n",
    "\n",
    "dropped_df = df2.drop('developer')\n",
    "dropped_df.show(4, False)"
   ]
  },
  {
   "cell_type": "code",
   "execution_count": 40,
   "id": "22b939b3",
   "metadata": {},
   "outputs": [
    {
     "name": "stdout",
     "output_type": "stream",
     "text": [
      "+-------------------------+---------------------------------------------------------------------------------------+\n",
      "|boardgame                |artists                                                                                |\n",
      "+-------------------------+---------------------------------------------------------------------------------------+\n",
      "|Brass: Birmingham        |[Gavan Brown, Lina Cossette, David Forest, Gui Landgraf, Damien Mammoliti, Matt Tolman]|\n",
      "|Pandemic Legacy: Season 1|[Chris Quilliams]                                                                      |\n",
      "|Ark Nova                 |[Steffen Bieker, Loïc Billiau, Dennis Lohausen, Christof Tisch]                        |\n",
      "|Gloomhaven               |[Alexandr Elichev, Josh T. McDowell, Alvaro Nebot]                                     |\n",
      "+-------------------------+---------------------------------------------------------------------------------------+\n",
      "only showing top 4 rows\n",
      "\n"
     ]
    }
   ],
   "source": [
    "# Dropping Multiple columns\n",
    "\n",
    "dropped_df = df2.drop('developer', 'amazon_price')\n",
    "dropped_df.show(4, False)"
   ]
  },
  {
   "cell_type": "code",
   "execution_count": 41,
   "id": "237a81a6",
   "metadata": {},
   "outputs": [
    {
     "name": "stdout",
     "output_type": "stream",
     "text": [
      "+-------------------------+------------+-----------------+---------------------------------------------------------------------------------------+\n",
      "|boardgame                |amazon_price|developer        |artists                                                                                |\n",
      "+-------------------------+------------+-----------------+---------------------------------------------------------------------------------------+\n",
      "|Brass: Birmingham        |69.95       |null             |[Gavan Brown, Lina Cossette, David Forest, Gui Landgraf, Damien Mammoliti, Matt Tolman]|\n",
      "|Pandemic Legacy: Season 1|76.97       |null             |[Chris Quilliams]                                                                      |\n",
      "|Ark Nova                 |71.81       |null             |[Steffen Bieker, Loïc Billiau, Dennis Lohausen, Christof Tisch]                        |\n",
      "|Gloomhaven               |null        |[Marcel Dragomir]|[Alexandr Elichev, Josh T. McDowell, Alvaro Nebot]                                     |\n",
      "+-------------------------+------------+-----------------+---------------------------------------------------------------------------------------+\n",
      "only showing top 4 rows\n",
      "\n"
     ]
    }
   ],
   "source": [
    "# Dropping non existent column\n",
    "\n",
    "dropped_df = df2.drop('gender')\n",
    "dropped_df.show(4, False)"
   ]
  },
  {
   "cell_type": "markdown",
   "id": "bffd137c",
   "metadata": {},
   "source": [
    "#### Using `dropDuplicates()` Function"
   ]
  },
  {
   "cell_type": "code",
   "execution_count": 7,
   "id": "8ba379e8",
   "metadata": {},
   "outputs": [
    {
     "name": "stdout",
     "output_type": "stream",
     "text": [
      "+---------------------+---------+--------------------------------------------------------+\n",
      "|boardgame            |developer|artists                                                 |\n",
      "+---------------------+---------+--------------------------------------------------------+\n",
      "|My City              |null     |[Michael Menzel]                                        |\n",
      "|No Thanks!           |null     |[Oliver Freudenreich, Dennis Lohausen, Atelier Löwentor]|\n",
      "|Mare Nostrum: Empires|null     |[Jean-Marie Minguez]                                    |\n",
      "|Crystal Palace       |null     |[Andrea Alemanno]                                       |\n",
      "+---------------------+---------+--------------------------------------------------------+\n",
      "only showing top 4 rows\n",
      "\n"
     ]
    }
   ],
   "source": [
    "# Removing all duplicate rows\n",
    "\n",
    "df_no_duplicates = df2.dropDuplicates()\n",
    "df_no_duplicates.show(4, False)\n"
   ]
  },
  {
   "cell_type": "code",
   "execution_count": 10,
   "id": "afebf487",
   "metadata": {},
   "outputs": [
    {
     "name": "stdout",
     "output_type": "stream",
     "text": [
      "+------------+------------+--------------------------------------------+---------------------------------------------------------------------------------------------------------------------------------------------------------+\n",
      "|boardgame   |amazon_price|developer                                   |artists                                                                                                                                                  |\n",
      "+------------+------------+--------------------------------------------+---------------------------------------------------------------------------------------------------------------------------------------------------------+\n",
      "|Gaia Project|null        |null                                        |[Dennis Lohausen]                                                                                                                                        |\n",
      "|Troyes      |null        |[(Uncredited)]                              |[Alexandre Roche]                                                                                                                                        |\n",
      "|Tammany Hall|null        |[Aaron Lauster, Max Michael, Martin Wallace]|[Peter Dennis]                                                                                                                                           |\n",
      "|Conan       |null        |[Adnane Badi]                               |[Georges Clarenko, Xavier Collette, Viktor Dragosani, Xavier Gueniffey Durin, Yannick Hennebo, Kekai Kotaki, Paolo Parente, Stéphane Simon, Adrian Smith]|\n",
      "+------------+------------+--------------------------------------------+---------------------------------------------------------------------------------------------------------------------------------------------------------+\n",
      "only showing top 4 rows\n",
      "\n"
     ]
    }
   ],
   "source": [
    "# Removing duplicates based on specific columns\n",
    "\n",
    "df_no_duplicaates_specific = df2.dropDuplicates(\n",
    "    ['amazon_price', 'developer']\n",
    ")\n",
    "df_no_duplicaates_specific.show(4, False)"
   ]
  },
  {
   "cell_type": "markdown",
   "id": "9ee67c4e",
   "metadata": {},
   "source": [
    "#### Using `dropna()` functions"
   ]
  },
  {
   "cell_type": "code",
   "execution_count": 6,
   "id": "e308f707",
   "metadata": {},
   "outputs": [
    {
     "name": "stdout",
     "output_type": "stream",
     "text": [
      "+---------------------------------+------------+------------------------------------------------------------------+---------------------------------------------------------------------------------------------------------------------------------------------------------------------------------------------------------------------------------------------------------------------------------------------------------------------------------------------------------------------------------------------------------------------------------------------------------------------------------------------------------------------------------------------------------------------------------------------------------------------------------------------------------------------------------------------+\n",
      "|boardgame                        |amazon_price|developer                                                         |artists                                                                                                                                                                                                                                                                                                                                                                                                                                                                                                                                                                                                                                                                                      |\n",
      "+---------------------------------+------------+------------------------------------------------------------------+---------------------------------------------------------------------------------------------------------------------------------------------------------------------------------------------------------------------------------------------------------------------------------------------------------------------------------------------------------------------------------------------------------------------------------------------------------------------------------------------------------------------------------------------------------------------------------------------------------------------------------------------------------------------------------------------+\n",
      "|Twilight Imperium: Fourth Edition|172.29      |[Dane Beltrami, Jason Walden]                                     |[Scott Schomburg]                                                                                                                                                                                                                                                                                                                                                                                                                                                                                                                                                                                                                                                                            |\n",
      "|Dune: Imperium                   |51.98       |[Paul Dennen]                                                     |[Clay Brooks, Brett Nienburg, Raul Ramos, Nate Storm]                                                                                                                                                                                                                                                                                                                                                                                                                                                                                                                                                                                                                                        |\n",
      "|Star Wars: Rebellion             |109.99      |[Steven Kimball]                                                  |[Matt Allsopp, David Ardila, Balaskas, Tiziano Baracchi, Ryan Barger, Jorge Barrero, Cassandre Bolan, Jon Bosco, Matt Bradbury, Adam Burn, Alexandre Dainche, Christina Davis, Anthony Devine, Allen Douglas, Jose Mikhail Elloso, Tony Foti, Michele Frigo, Mariusz Gandzel, Zach Graves, Richard Hanuschek, Andrew Johanson, Jeff Lee Johnson, Jason Juta, Adam Lane, Ignacio Bazán Lazcano, Ralph McQuarrie, Mark Molnar, Jake Murray, Ameen Naksewee, David Auden Nash, Mike Nash, Maciej Rebisz, Alexandru Sabo, Tony Shasteen, Stephen Somers, Matthew Starbuck, Nicholas Stohlman, Angela Sung, Darren Tan, Ryan Valle, Jose Vega, VIKO, Magali Villeneuve, Jacob Walker, Ben Zweifel]|\n",
      "|Spirit Island                    |64.99       |[Ted Vessenes]                                                    |[Jason Behnke, Loïc Berger, Loïc Billiau, Kat G Birmelin, Cari Corene, Lucas Durham, Rocky Hammer, Sydni Kruger, Nolan Nasser, Jorge Ramos, Adam Rebottaro, Moro Rogers, Graham Sternberg, Shane Tyree, Joshua Wright (I)]                                                                                                                                                                                                                                                                                                                                                                                                                                                                   |\n",
      "|Gloomhaven: Jaws of the Lion     |64.95       |[Zachary Cohn, Marcel Dragomir, Drew Penn, Alexander JL Theoharis]|[Francesca Baerald, David Demaret, Alexandr Elichev]                                                                                                                                                                                                                                                                                                                                                                                                                                                                                                                                                                                                                                         |\n",
      "+---------------------------------+------------+------------------------------------------------------------------+---------------------------------------------------------------------------------------------------------------------------------------------------------------------------------------------------------------------------------------------------------------------------------------------------------------------------------------------------------------------------------------------------------------------------------------------------------------------------------------------------------------------------------------------------------------------------------------------------------------------------------------------------------------------------------------------+\n",
      "only showing top 5 rows\n",
      "\n"
     ]
    }
   ],
   "source": [
    "# Removing rows wth ANY null value\n",
    "\n",
    "drop_na = df2.dropna()\n",
    "drop_na.show(5,False)"
   ]
  },
  {
   "cell_type": "code",
   "execution_count": 6,
   "id": "37b0298c",
   "metadata": {},
   "outputs": [
    {
     "name": "stdout",
     "output_type": "stream",
     "text": [
      "+-------------------------+------------+-----------------+---------------------------------------------------------------------------------------+\n",
      "|boardgame                |amazon_price|developer        |artists                                                                                |\n",
      "+-------------------------+------------+-----------------+---------------------------------------------------------------------------------------+\n",
      "|Brass: Birmingham        |69.95       |null             |[Gavan Brown, Lina Cossette, David Forest, Gui Landgraf, Damien Mammoliti, Matt Tolman]|\n",
      "|Pandemic Legacy: Season 1|76.97       |null             |[Chris Quilliams]                                                                      |\n",
      "|Ark Nova                 |71.81       |null             |[Steffen Bieker, Loïc Billiau, Dennis Lohausen, Christof Tisch]                        |\n",
      "|Gloomhaven               |null        |[Marcel Dragomir]|[Alexandr Elichev, Josh T. McDowell, Alvaro Nebot]                                     |\n",
      "+-------------------------+------------+-----------------+---------------------------------------------------------------------------------------+\n",
      "only showing top 4 rows\n",
      "\n"
     ]
    }
   ],
   "source": [
    "# Removing rows only if All columns are NULL\n",
    "df_dropna_all = df2.dropna(how='all')\n",
    "df_dropna_all.show(n=4, truncate=False)"
   ]
  },
  {
   "cell_type": "code",
   "execution_count": 7,
   "id": "fb5294df",
   "metadata": {},
   "outputs": [
    {
     "name": "stdout",
     "output_type": "stream",
     "text": [
      "+---------------------------------+------------+-----------------------------+---------------------------------------------------------------------------------------------------------------------------------------------------------------------------------------------------------------------------------------------------------------------------------------------------------------------------------------------------------------------------------------------------------------------------------------------------------------------------------------------------------------------------------------------------------------------------------------------------------------------------------------------------------------------------------------------+\n",
      "|boardgame                        |amazon_price|developer                    |artists                                                                                                                                                                                                                                                                                                                                                                                                                                                                                                                                                                                                                                                                                      |\n",
      "+---------------------------------+------------+-----------------------------+---------------------------------------------------------------------------------------------------------------------------------------------------------------------------------------------------------------------------------------------------------------------------------------------------------------------------------------------------------------------------------------------------------------------------------------------------------------------------------------------------------------------------------------------------------------------------------------------------------------------------------------------------------------------------------------------+\n",
      "|Gloomhaven                       |null        |[Marcel Dragomir]            |[Alexandr Elichev, Josh T. McDowell, Alvaro Nebot]                                                                                                                                                                                                                                                                                                                                                                                                                                                                                                                                                                                                                                           |\n",
      "|Twilight Imperium: Fourth Edition|172.29      |[Dane Beltrami, Jason Walden]|[Scott Schomburg]                                                                                                                                                                                                                                                                                                                                                                                                                                                                                                                                                                                                                                                                            |\n",
      "|Dune: Imperium                   |51.98       |[Paul Dennen]                |[Clay Brooks, Brett Nienburg, Raul Ramos, Nate Storm]                                                                                                                                                                                                                                                                                                                                                                                                                                                                                                                                                                                                                                        |\n",
      "|Star Wars: Rebellion             |109.99      |[Steven Kimball]             |[Matt Allsopp, David Ardila, Balaskas, Tiziano Baracchi, Ryan Barger, Jorge Barrero, Cassandre Bolan, Jon Bosco, Matt Bradbury, Adam Burn, Alexandre Dainche, Christina Davis, Anthony Devine, Allen Douglas, Jose Mikhail Elloso, Tony Foti, Michele Frigo, Mariusz Gandzel, Zach Graves, Richard Hanuschek, Andrew Johanson, Jeff Lee Johnson, Jason Juta, Adam Lane, Ignacio Bazán Lazcano, Ralph McQuarrie, Mark Molnar, Jake Murray, Ameen Naksewee, David Auden Nash, Mike Nash, Maciej Rebisz, Alexandru Sabo, Tony Shasteen, Stephen Somers, Matthew Starbuck, Nicholas Stohlman, Angela Sung, Darren Tan, Ryan Valle, Jose Vega, VIKO, Magali Villeneuve, Jacob Walker, Ben Zweifel]|\n",
      "+---------------------------------+------------+-----------------------------+---------------------------------------------------------------------------------------------------------------------------------------------------------------------------------------------------------------------------------------------------------------------------------------------------------------------------------------------------------------------------------------------------------------------------------------------------------------------------------------------------------------------------------------------------------------------------------------------------------------------------------------------------------------------------------------------+\n",
      "only showing top 4 rows\n",
      "\n"
     ]
    }
   ],
   "source": [
    "# Removing rows based on specific columns\n",
    "df_dropna_subset = df2.dropna(subset=['developer', 'artists'])\n",
    "df_dropna_subset.show(4, False)"
   ]
  },
  {
   "cell_type": "markdown",
   "id": "4f41eeb7",
   "metadata": {},
   "source": [
    "#### Using the `count()` function"
   ]
  },
  {
   "cell_type": "code",
   "execution_count": null,
   "id": "c5db71f3",
   "metadata": {},
   "outputs": [
    {
     "name": "stdout",
     "output_type": "stream",
     "text": [
      "2000\n"
     ]
    }
   ],
   "source": [
    "# Counting all the rows\n",
    "total_rows = df2.count()\n",
    "print(total_rows)"
   ]
  },
  {
   "cell_type": "code",
   "execution_count": null,
   "id": "52416f99",
   "metadata": {},
   "outputs": [
    {
     "name": "stdout",
     "output_type": "stream",
     "text": [
      "1993\n"
     ]
    }
   ],
   "source": [
    "# Counting unique rows\n",
    "distinct_rows = df2.distinct().count()\n",
    "print(distinct_rows)"
   ]
  },
  {
   "cell_type": "code",
   "execution_count": 12,
   "id": "b7b4ae04",
   "metadata": {},
   "outputs": [
    {
     "name": "stdout",
     "output_type": "stream",
     "text": [
      "+--------------------+-----+\n",
      "|           boardgame|count|\n",
      "+--------------------+-----+\n",
      "|             Nemesis|    1|\n",
      "|         Viticulture|    1|\n",
      "|              Myrmes|    1|\n",
      "|           Cry Havoc|    1|\n",
      "|                Yedo|    1|\n",
      "|Smash Up: Monster...|    1|\n",
      "|              Crisis|    1|\n",
      "|         New Angeles|    1|\n",
      "|           burncycle|    1|\n",
      "|Unlock!: Escape A...|    1|\n",
      "|       Space Crusade|    1|\n",
      "|           CoraQuest|    1|\n",
      "|       PitchCar Mini|    1|\n",
      "|7 Wonders (Second...|    1|\n",
      "|          Libertalia|    1|\n",
      "|              Egizia|    1|\n",
      "|           Formula D|    1|\n",
      "|7 Wonders: Archit...|    1|\n",
      "|Arcadia Quest: In...|    1|\n",
      "|    5-Minute Dungeon|    1|\n",
      "+--------------------+-----+\n",
      "only showing top 20 rows\n",
      "\n"
     ]
    }
   ],
   "source": [
    "# groupBy and count() \n",
    "df2.groupBy('boardgame').count().show()"
   ]
  },
  {
   "cell_type": "code",
   "execution_count": null,
   "id": "2f73656e",
   "metadata": {},
   "outputs": [],
   "source": []
  }
 ],
 "metadata": {
  "kernelspec": {
   "display_name": "3.10.14",
   "language": "python",
   "name": "python3"
  },
  "language_info": {
   "codemirror_mode": {
    "name": "ipython",
    "version": 3
   },
   "file_extension": ".py",
   "mimetype": "text/x-python",
   "name": "python",
   "nbconvert_exporter": "python",
   "pygments_lexer": "ipython3",
   "version": "3.10.14"
  }
 },
 "nbformat": 4,
 "nbformat_minor": 5
}
